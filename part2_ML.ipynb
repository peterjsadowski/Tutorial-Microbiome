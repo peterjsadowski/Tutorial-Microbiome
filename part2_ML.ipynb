{
  "nbformat": 4,
  "nbformat_minor": 0,
  "metadata": {
    "colab": {
      "provenance": [],
      "authorship_tag": "ABX9TyMI+sKFDTESpS0SaZI3WBMh",
      "include_colab_link": true
    },
    "kernelspec": {
      "name": "python3",
      "display_name": "Python 3"
    },
    "language_info": {
      "name": "python"
    }
  },
  "cells": [
    {
      "cell_type": "markdown",
      "metadata": {
        "id": "view-in-github",
        "colab_type": "text"
      },
      "source": [
        "<a href=\"https://colab.research.google.com/github/peterjsadowski/Tutorial-Microbiome/blob/main/part2_ML.ipynb\" target=\"_parent\"><img src=\"https://colab.research.google.com/assets/colab-badge.svg\" alt=\"Open In Colab\"/></a>"
      ]
    },
    {
      "cell_type": "markdown",
      "source": [
        "# Machine Learning for Microbiome Data Analysis\n",
        "\n",
        "This notebook presents a tutorial on using machine learning with sklearn for analyzing microbiome amplicon data.\n",
        "\n",
        "Author: Peter Sadowski\n",
        "\n",
        "Date: Feb 19 2023\n"
      ],
      "metadata": {
        "id": "VLVD62Nnmmud"
      }
    },
    {
      "cell_type": "markdown",
      "source": [
        "# Loading Data\n",
        "\n",
        "For this example we use samples taken by UH Professor Anthony Amend's BOT662 class. Instructions:\n",
        "1. Download file from [this link](https://drive.google.com/drive/u/0/folders/1ueHCzkohAkXOW-ZcbqDgeLr8PnQ5Rxyd) (Google login required).\n",
        "1. Upload the zip file 'Class_Data_for_Phyloseq.zip' to the runtime.\n",
        "1. Unzip it below."
      ],
      "metadata": {
        "id": "ytgkH944nBEe"
      }
    },
    {
      "cell_type": "code",
      "source": [
        "!unzip Class_Data_for_Phyloseq.zip  # Assumes file is saved locally."
      ],
      "metadata": {
        "id": "dQVAS-Q1nGvm"
      },
      "execution_count": null,
      "outputs": []
    },
    {
      "cell_type": "code",
      "source": [
        "import numpy as np\n",
        "import pandas as pd\n",
        "import sklearn\n",
        "import matplotlib.pylab as plt\n",
        "\n",
        "# Load data into pandas dataframe.\n",
        "df = pd.read_csv('OTUs.100.rep.count_table.csv')\n",
        "df = df.rename(columns={'Unnamed: 0': 'OTU'})\n",
        "df = df.set_index('OTU')\n",
        "\n",
        "# Load meta data into separate dataframe\n",
        "meta_data = pd.read_csv('brom_meta.csv')\n",
        "meta_data = meta_data.set_index('sample_name')"
      ],
      "metadata": {
        "id": "CGg-I-yBnOPH"
      },
      "execution_count": 9,
      "outputs": []
    },
    {
      "cell_type": "markdown",
      "source": [
        "# Supervised machine learning\n",
        "\n",
        "In supervised learning, the goal is to predict some target variable _y_ from some input variable _x_. In a probabilistic machine learning model, the predictions will be in the form of a conditional probability distribution p(y|x), where this might be a discrete probability mass function over a finite set of class labels (classification) or a probability density function over real values (regression). Classification is more concrete, so we focus on it here.\n"
      ],
      "metadata": {
        "id": "04VVh1CjnQbv"
      }
    },
    {
      "cell_type": "markdown",
      "source": [
        "# Logistic Regression Classifier\n",
        "Below we use a simple __logistic regression__ classifier to predict the sample_type from amplicon counts. \n",
        "\n"
      ],
      "metadata": {
        "id": "zA1fsiQow2nW"
      }
    },
    {
      "cell_type": "code",
      "source": [
        "from sklearn.linear_model import LogisticRegression\n",
        "from sklearn.preprocessing import LabelEncoder\n",
        "\n",
        "def assign_colors(df, meta_data, colorby='sample_type'):\n",
        "  \"\"\" Assign a integer label and color to each unique value in the colorby col.\n",
        "  Returns:\n",
        "    labels = List of labels. Has length equal to len(df.columns).\n",
        "    labels_int = List of integer labels.\n",
        "    colors = List of colors. Has length equal to len(df.columns).\n",
        "    label_colors = Dict mapping unique keys to colors.\n",
        "  \"\"\"\n",
        "  labels = [meta_data.loc[[sample_name]][colorby][0]\n",
        "          for sample_name in df.columns]\n",
        "  encoder = LabelEncoder()\n",
        "  labels_int = encoder.fit_transform(labels)\n",
        "  cmap = plt.get_cmap('Accent')\n",
        "  num_labels = len(np.unique(labels))\n",
        "  label_colors = {label: cmap(i/num_labels) \n",
        "                  for i, label in enumerate(np.unique(labels))}\n",
        "  colors = [label_colors[label] for label in labels]\n",
        "  return labels, labels_int, colors, label_colors\n",
        "\n",
        "labels, labels_int, colors, label_colors = assign_colors(\n",
        "    df, meta_data, colorby='sample_type')\n",
        "\n",
        "# Classification task is to predict sample_type from \n",
        "X = (np.log(1+df).T).to_numpy()\n",
        "y = labels_int \n",
        "\n",
        "clf = LogisticRegression(random_state=0, penalty='l2', max_iter=1000).fit(X, y)\n",
        "# This function predicts the most likely class label.\n",
        "labels_predicted = clf.predict(X[:, :])\n",
        "# This function gives probabilities for each class.\n",
        "probs_predicted = clf.predict_proba(X[:, :])\n",
        "\n",
        "print(f'Accuracy: {clf.score(X, y) * 100}%')"
      ],
      "metadata": {
        "colab": {
          "base_uri": "https://localhost:8080/"
        },
        "id": "-hZ2X3GqoH3i",
        "outputId": "6da11977-ee04-4bc8-f439-e453e3f50942"
      },
      "execution_count": 11,
      "outputs": [
        {
          "output_type": "stream",
          "name": "stdout",
          "text": [
            "Accuracy: 100.0%\n"
          ]
        }
      ]
    },
    {
      "cell_type": "markdown",
      "source": [
        "## Cross-Validation\n",
        "This model gets 100% accuracy on our little dataset of 22 examples. Is that good? We _don't know_ without testing it on new data! Machine learning models, even simple ones like this linear model, are prone to __overfit__ to the data they are trained on. A powerful model can _always_ get 100% on the training data, but that doesn't mean the model __generalizes__ to new examples (which is the only thing we ever care about). Thus, the standard way to evaluate ML models is through __cross-validation__ where the data is separated into a __training set__ that is used to fit the model and __test set__ that is only used for evaluating the model performance.\n",
        "\n",
        "Scikit learn has some very helpful methods managing these data splits. For example, train_test_split method splits off 40% of the data to be in the test set.\n"
      ],
      "metadata": {
        "id": "PnkJxqR5uvsG"
      }
    },
    {
      "cell_type": "code",
      "source": [
        "from sklearn.model_selection import train_test_split\n",
        "\n",
        "X_train, X_test, y_train, y_test = train_test_split(X, y, test_size=0.4)\n",
        "clf = LogisticRegression(penalty='l2', max_iter=1000).fit(X_train, y_train)\n",
        "print(f'Accuracy: {clf.score(X_test, y_test) * 100}%')"
      ],
      "metadata": {
        "colab": {
          "base_uri": "https://localhost:8080/"
        },
        "id": "eoEEi4hOwWAm",
        "outputId": "33e43836-01e1-46fd-9218-3b1d7e6cc522"
      },
      "execution_count": 46,
      "outputs": [
        {
          "output_type": "stream",
          "name": "stdout",
          "text": [
            "Accuracy: 33.33%\n"
          ]
        }
      ]
    },
    {
      "cell_type": "markdown",
      "source": [
        "This is far less than the 100% accuracy from before. This shouldn't be surprising, since we are only training on ~13 examples! Isn't there a way to use more of our tiny dataset for training? Unfortunatley, if we decrease the size of our test set, we get a very noisy estimate of the performance. Indeed, if the test set contains only one example, then the accuracy estimate will be either 0% or 100%.\n",
        "\n",
        "There is a nice trick that gives us the best of both worlds, at the cost of more computation. In __K-fold cross-validation__, we split the data into k subsets, and train k models, using a different subset for testing each iteration. In the extreme case where k is the number of samples in the dataset, this is called __leave-one-out cross validation__.  "
      ],
      "metadata": {
        "id": "TPgVX_P8x7Gf"
      }
    },
    {
      "cell_type": "code",
      "source": [
        "from sklearn import metrics\n",
        "from sklearn.model_selection import cross_val_score\n",
        "\n",
        "clf = LogisticRegression(random_state=0, penalty='l2', max_iter=1000)\n",
        "%timeit scores = cross_val_score(clf, X, y, cv=5)\n",
        "print(f'CV accuracies: {scores}')\n",
        "print(f'Mean accuracy: {scores.mean():.2f}')  # prints only two decimals"
      ],
      "metadata": {
        "colab": {
          "base_uri": "https://localhost:8080/"
        },
        "id": "AWGfrj1gyqd-",
        "outputId": "914f8e3b-0e7a-491d-a72b-58e52d847be7"
      },
      "execution_count": 47,
      "outputs": [
        {
          "output_type": "stream",
          "name": "stdout",
          "text": [
            "4.93 s ± 529 ms per loop (mean ± std. dev. of 7 runs, 1 loop each)\n",
            "CV accuracies: [0.6  0.8  1.   1.   0.75]\n",
            "Mean accuracy: 0.83\n"
          ]
        }
      ]
    },
    {
      "cell_type": "markdown",
      "source": [
        "By default, Scikit Learn attempts to do __stratified cross-validation__, in which the examples in each class are evenly distributed between the k-folds. \n",
        "\n",
        "In order to do leave-one out cross-validation, we can pass the LeaveOneOut iterator object to cross_val_score. Notice that this takes a minute to run, because it is training 22 different models. "
      ],
      "metadata": {
        "id": "OXM58dTM1AsK"
      }
    },
    {
      "cell_type": "code",
      "source": [
        "from sklearn.model_selection import LeaveOneOut\n",
        "clf = LogisticRegression(random_state=0, penalty='l2', max_iter=1000)\n",
        "%timeit scores = cross_val_score(clf, X, y, cv=LeaveOneOut())\n",
        "print(f'CV accuracies: {scores}')\n",
        "print(f'Mean accuracy: {scores.mean():.2f}')"
      ],
      "metadata": {
        "colab": {
          "base_uri": "https://localhost:8080/"
        },
        "id": "P1npHfx50zgn",
        "outputId": "14ed663f-0e21-4ed3-de97-ac696165311a"
      },
      "execution_count": 40,
      "outputs": [
        {
          "output_type": "stream",
          "name": "stdout",
          "text": [
            "25 s ± 1.96 s per loop (mean ± std. dev. of 7 runs, 1 loop each)\n",
            "CV accuracies: [0.6  0.8  1.   1.   0.75]\n",
            "Mean accuracy: 0.8300000000000001\n"
          ]
        }
      ]
    },
    {
      "cell_type": "markdown",
      "source": [
        "# Decision Trees\n",
        "\n",
        "One of the most intuitive and interpretable machine learning algorithms is the decision tree. Training a decision tree consists of iteratively splitting the data into smaller subsets, with final predictions made at the __leaf nodes__ of the tree.\n",
        "\n",
        "Decision trees are __greedy algorithms__ because trees are constructed by choosing the optimal split at each decision node without worrying about the rest of the tree. There are different ways to define the splitting criterion (common criteria are 'gini' and 'entropy'). \n",
        "\n",
        "![]() <img src=\"https://www.simplilearn.com/ice9/free_resources_article_thumb/decision-tree.JPG\"  width=\"350\">\n",
        "\n",
        "Another parameter that should be specified is the maximum depth of the decision tree. If the tree is allowed to keep growing, it will eventually overfit to the training data. This is shown in the figure below, where the training accuracy (score) increases as the max_depth of the tree goes to 50, but the test accuracy is maximum at max_depth=8.\n",
        "\n",
        "![]() <img src=\"https://www.googleapis.com/download/storage/v1/b/kaggle-user-content/o/inbox%2F3363480%2Faff30b8b45ec7863877627604190472d%2FCapture.PNG?generation=1569874571729138&alt=media\"  width=\"400\">\n",
        "\n",
        "Lets try training a decision tree on the microbiome data. We use a max_depth of three, and the default 'gini' criterion. \n",
        "\n"
      ],
      "metadata": {
        "id": "li95u-zvwnPo"
      }
    },
    {
      "cell_type": "code",
      "source": [
        "from sklearn import tree\n",
        "\n",
        "# Suppress those warnings about having a class with only one example.\n",
        "import warnings\n",
        "warnings.filterwarnings(\"ignore\", category=UserWarning)\n",
        "\n",
        "clf = tree.DecisionTreeClassifier(max_depth=3)\n",
        "clf.fit(X, y)\n",
        "print(f'Accuracy on training set: {clf.score(X,y):.2f}')\n",
        "\n",
        "# Visualize tree\n",
        "plt.figure(figsize=(12,6))\n",
        "tree.plot_tree(clf);\n"
      ],
      "metadata": {
        "colab": {
          "base_uri": "https://localhost:8080/",
          "height": 375
        },
        "id": "_uw2HtiZ36Te",
        "outputId": "2b42f644-7987-4dc1-d289-86770e205f0e"
      },
      "execution_count": 20,
      "outputs": [
        {
          "output_type": "stream",
          "name": "stdout",
          "text": [
            "Accuracy on training set: 0.91\n"
          ]
        },
        {
          "output_type": "display_data",
          "data": {
            "text/plain": [
              "<Figure size 864x432 with 1 Axes>"
            ],
            "image/png": "[encoded data removed]"
          },
          "metadata": {
            "needs_background": "light"
          }
        }
      ]
    },
    {
      "cell_type": "markdown",
      "source": [
        "# Hyperparameter Selection\n",
        "\n",
        "How do we choose the max_depth of our decision tree and the splitting criteria? These are known as __hyperparameters__ of the model, because unlike the parameters of the model which are _learned_ by the training algorithm from data, these must be specified by the practitioner. \n",
        "\n",
        "In practice, we select hyperparameters using a combination of intuition and optimization. Intuition tells us which hyperparameter choices are reasonable for our data (for example, a decision tree with max_depth>5 will horribly overfit the small microbiome dataset). We can also optimize hyperparameters by trying many different combinations, and using cross-validation to evaluate performance on held-out data.\n",
        "\n",
        "Below we perform a hyperparameter optimization to choose the max_depth parameter. "
      ],
      "metadata": {
        "id": "-Yt50Je34zcF"
      }
    },
    {
      "cell_type": "code",
      "source": [
        "from sklearn.model_selection import cross_val_score\n",
        "\n",
        "max_depth_choices = np.arange(10) + 1\n",
        "test_accuracy_mean = np.zeros_like(max_depth_choices, dtype='float')\n",
        "train_accuracy = np.zeros_like(max_depth_choices, dtype='float')\n",
        "for i, max_depth in enumerate(max_depth_choices):\n",
        "  clf = tree.DecisionTreeClassifier(max_depth=max_depth)\n",
        "  scores = cross_val_score(clf, X, y, cv=5)\n",
        "  test_accuracy_mean[i] = scores.mean()\n",
        "  train_accuracy[i] = clf.fit(X,y).score(X,y)\n",
        "\n",
        "plt.plot(max_depth_choices, test_accuracy_mean, label='test')\n",
        "plt.plot(max_depth_choices, train_accuracy, label='train')\n",
        "plt.legend()\n",
        "plt.xlabel('max_depth')\n",
        "plt.ylabel('Accuracy')\n"
      ],
      "metadata": {
        "colab": {
          "base_uri": "https://localhost:8080/",
          "height": 298
        },
        "id": "77-ohqY6M7S3",
        "outputId": "2dacf6c8-1092-41d0-b241-33e3ab2e5904"
      },
      "execution_count": 42,
      "outputs": [
        {
          "output_type": "execute_result",
          "data": {
            "text/plain": [
              "Text(0, 0.5, 'Accuracy')"
            ]
          },
          "metadata": {},
          "execution_count": 42
        },
        {
          "output_type": "display_data",
          "data": {
            "text/plain": [
              "<Figure size 432x288 with 1 Axes>"
            ],
            "image/png": "[encoded data removed]"
          },
          "metadata": {
            "needs_background": "light"
          }
        }
      ]
    },
    {
      "cell_type": "markdown",
      "source": [
        "#  Random Forests\n",
        "\n",
        "Decision trees only look at feature at a time. This makes them easy to interpret, but it means they ignore most of the other features. A __random forest__ is a set of decision trees that are trained on different subsets of the features, and predictions are averaged together. Random forests work well in practice, but require more computation.\n",
        "\n",
        "Lets do an example."
      ],
      "metadata": {
        "id": "VXat8aq2PSqG"
      }
    },
    {
      "cell_type": "code",
      "source": [
        "from sklearn.ensemble import RandomForestClassifier\n",
        "\n",
        "clf = RandomForestClassifier(max_depth=3, n_estimators=100)\n",
        "scores = cross_val_score(clf, X, y, cv=5)\n",
        "print(f'CV accuracies: {scores}')\n",
        "print(f'Mean accuracy: {scores.mean():.2f}')"
      ],
      "metadata": {
        "colab": {
          "base_uri": "https://localhost:8080/"
        },
        "id": "CguU6txcTL8o",
        "outputId": "b76a2120-9868-4946-ed7e-8771bd693f02"
      },
      "execution_count": 45,
      "outputs": [
        {
          "output_type": "stream",
          "name": "stdout",
          "text": [
            "CV accuracies: [0.6  0.6  1.   1.   0.75]\n",
            "Mean accuracy: 0.79\n"
          ]
        }
      ]
    },
    {
      "cell_type": "markdown",
      "source": [
        "Now lets perform the same hyperparameter optimization experiment that we did with the decision trees, to see how sensitive the model is to the choice of max_depth. "
      ],
      "metadata": {
        "id": "a78tV_6NTgIT"
      }
    },
    {
      "cell_type": "code",
      "source": [
        "# Hyperparameter optimization of max_depth for random forest.\n",
        "max_depth_choices = np.arange(10) + 1\n",
        "test_accuracy_mean = np.zeros_like(max_depth_choices, dtype='float')\n",
        "train_accuracy = np.zeros_like(max_depth_choices, dtype='float')\n",
        "\n",
        "for i, max_depth in enumerate(max_depth_choices):\n",
        "  clf = RandomForestClassifier(max_depth=max_depth, n_estimators=100)\n",
        "  scores = cross_val_score(clf, X, y, cv=5)\n",
        "  test_accuracy_mean[i] = scores.mean()\n",
        "  train_accuracy[i] = clf.fit(X,y).score(X,y)\n",
        "\n",
        "plt.plot(max_depth_choices, test_accuracy_mean, label='test')\n",
        "plt.plot(max_depth_choices, train_accuracy, label='train')\n",
        "plt.legend()\n",
        "plt.xlabel('max_depth')\n",
        "plt.ylabel('Accuracy')\n"
      ],
      "metadata": {
        "colab": {
          "base_uri": "https://localhost:8080/",
          "height": 298
        },
        "id": "JeRimNPeSrpR",
        "outputId": "284c3885-25c2-4a05-adb2-bd7821b5fe96"
      },
      "execution_count": 46,
      "outputs": [
        {
          "output_type": "execute_result",
          "data": {
            "text/plain": [
              "Text(0, 0.5, 'Accuracy')"
            ]
          },
          "metadata": {},
          "execution_count": 46
        },
        {
          "output_type": "display_data",
          "data": {
            "text/plain": [
              "<Figure size 432x288 with 1 Axes>"
            ],
            "image/png": "[encoded data removed]"
          },
          "metadata": {
            "needs_background": "light"
          }
        }
      ]
    },
    {
      "cell_type": "markdown",
      "source": [
        "Notice that the RF is less sensitive to the max_depth parameter. The RF is a much more complex model (it contains 100 decision trees!), but it manages to avoid overfitting by randomly selecting different features for each individual tree. In practice, random forests are more accurate, but require more computation, both to train and when making predictions.\n",
        "\n"
      ],
      "metadata": {
        "id": "4NeyonGJT6I7"
      }
    },
    {
      "cell_type": "markdown",
      "source": [
        "# Other models\n",
        "\n",
        "Scikit learn has lots of other supervised learning models. No single model is best in every situation, an idea formalized by the [__No Free Lunch Theorem__](https://en.wikipedia.org/wiki/No_free_lunch_theorem). Machine learning works by \"interpolating\" between the training points, with the implicit assumption that the functions we are trying to learn are \"smooth\", and different models have different smoothness assumptions. The figure below shows the __decision boundaries__ different machine learning classifiers on three different training datasets. Notice how different these predictions can be. \n",
        "\n",
        "![]() <img src=\"https://scikit-learn.org/0.15/_images/plot_classifier_comparison_0011.png\"  width=\"1000\"> \n",
        "\n",
        " These assumptions are usually _implicit_ and they are known as the model's __inductive bias__. To be clear, this inductive bias is not a bad thing --- inductive bias is necessary for learning --- but different models have different biases that lead to different predictions when trained on the same data. In practice, practicioners use cross-validation to perform __model selection__ to choose the best model for a particular problem. Scikit learn makes this easy by having many different models implemented using the same API.\n",
        "\n"
      ],
      "metadata": {
        "id": "qt54Pv0GVDa6"
      }
    },
    {
      "cell_type": "code",
      "source": [],
      "metadata": {
        "id": "frN7jhhSXP4p"
      },
      "execution_count": null,
      "outputs": []
    }
  ]
}