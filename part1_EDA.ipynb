{
  "nbformat": 4,
  "nbformat_minor": 0,
  "metadata": {
    "colab": {
      "provenance": [],
      "authorship_tag": "ABX9TyN2WZwVDQlle1UExrukcqZN",
      "include_colab_link": true
    },
    "kernelspec": {
      "name": "python3",
      "display_name": "Python 3"
    },
    "language_info": {
      "name": "python"
    }
  },
  "cells": [
    {
      "cell_type": "markdown",
      "metadata": {
        "id": "view-in-github",
        "colab_type": "text"
      },
      "source": [
        "<a href=\"https://colab.research.google.com/github/peterjsadowski/Tutorial-Microbiome/blob/main/part1_EDA.ipynb\" target=\"_parent\"><img src=\"https://colab.research.google.com/assets/colab-badge.svg\" alt=\"Open In Colab\"/></a>"
      ]
    },
    {
      "cell_type": "markdown",
      "source": [
        "# Exploratory Data Analysis (EDA)\n",
        "\n",
        "This notebook presents an example of exploratory data analysis for metagenomic data. \n",
        "\n",
        "Author: Peter Sadowski\n",
        "\n",
        "Date: Feb 19 2023\n"
      ],
      "metadata": {
        "id": "00kY9gyfnyld"
      }
    },
    {
      "cell_type": "markdown",
      "source": [
        "# Loading Data\n",
        "\n",
        "For this example we use samples taken by UH Professor Anthony Amend's BOT662 class. Instructions:\n",
        "1. Download file from [this link](https://drive.google.com/drive/u/0/folders/1ueHCzkohAkXOW-ZcbqDgeLr8PnQ5Rxyd) (Google login required).\n",
        "1. Upload the zip file 'Class_Data_for_Phyloseq.zip' to the runtime.\n",
        "1. Unzip it below."
      ],
      "metadata": {
        "id": "K57cdSjCsO9v"
      }
    },
    {
      "cell_type": "code",
      "source": [
        "!unzip Class_Data_for_Phyloseq.zip  # Assumes file is saved locally."
      ],
      "metadata": {
        "id": "jr9syIF6pFgc"
      },
      "execution_count": null,
      "outputs": []
    },
    {
      "cell_type": "markdown",
      "source": [
        "We will use standard python packages to work with the data:\n",
        "1. Numpy: For working with matrices and vectors. \n",
        "1. Pandas: For “relational” or “labeled” data. Similar to R.\n",
        "1. Sklearn: Implements variety of machine learning models. \n",
        "1. Matplotlib: Plotting tools"
      ],
      "metadata": {
        "id": "il2E71eGpirT"
      }
    },
    {
      "cell_type": "code",
      "execution_count": 4,
      "metadata": {
        "id": "8UYN4RqvnHFw"
      },
      "outputs": [],
      "source": [
        "import numpy as np\n",
        "import pandas as pd\n",
        "import sklearn\n",
        "import matplotlib.pylab as plt\n",
        "\n",
        "# Load data into pandas dataframe.\n",
        "df = pd.read_csv('OTUs.100.rep.count_table.csv')\n",
        "df = df.rename(columns={'Unnamed: 0': 'OTU'})\n",
        "df = df.set_index('OTU')\n",
        "\n",
        "meta_data = pd.read_csv('brom_meta.csv')\n",
        "meta_data = meta_data.set_index('sample_name')"
      ]
    },
    {
      "cell_type": "markdown",
      "source": [
        "We can view the first few lines of the datatable with \"head()\""
      ],
      "metadata": {
        "id": "G5l7sbAXrb-Y"
      }
    },
    {
      "cell_type": "code",
      "source": [
        "df.head()"
      ],
      "metadata": {
        "colab": {
          "base_uri": "https://localhost:8080/",
          "height": 317
        },
        "id": "tej8ClS3q7T6",
        "outputId": "c870f1e9-d04b-42a2-e8a5-9cf6df850c78"
      },
      "execution_count": null,
      "outputs": [
        {
          "output_type": "execute_result",
          "data": {
            "text/plain": [
              "  Unnamed: 0  EXT_NEG_LY_S21_L001  LY_BR1_D_S11_L001  LY_BR1_Detrit_S1_L001  \\\n",
              "0    Otu0001                    2                 16                     36   \n",
              "1    Otu0002                    0                  1                      0   \n",
              "2    Otu0003                    0                  1                   3144   \n",
              "3    Otu0004                    0                  6                      8   \n",
              "4    Otu0006                    0                  0                      1   \n",
              "\n",
              "   LY_BR1_Toxo_S6_L001  LY_BR1_W1_S16_L001  LY_BR2_D_S12_L001  \\\n",
              "0                   11               11689                 18   \n",
              "1                   16                   8                  2   \n",
              "2                    6                   5                  2   \n",
              "3                    3               51387                  5   \n",
              "4                    1                   1                  1   \n",
              "\n",
              "   LY_BR2_Detrit_S2_L001  LY_BR2_Toxo_S7_L001  LY_BR2_W2_S17_L001  ...  \\\n",
              "0                     53                  126               24764  ...   \n",
              "1                      2                33939                  10  ...   \n",
              "2                  21403                    4                   3  ...   \n",
              "3                      1                    3                 105  ...   \n",
              "4                      0                  256                   0  ...   \n",
              "\n",
              "   LY_BR3_W1_S18_L001  LY_BR4_D_S14_L001  LY_BR4_Detrit_S4_L001  \\\n",
              "0                 371                 13                    116   \n",
              "1                   0                  0                      1   \n",
              "2                   9                  0                  13666   \n",
              "3                  52                  3                      4   \n",
              "4                   9                  1                      1   \n",
              "\n",
              "   LY_BR4_Toxo_S9_L001  LY_BR4_W1_S19_L001  LY_BR5_D_S15_L001  \\\n",
              "0                  328               67927                 24   \n",
              "1                36354                  33                  4   \n",
              "2                    3                  11                  0   \n",
              "3                    0                 135                  1   \n",
              "4                    7                   1                  2   \n",
              "\n",
              "   LY_BR5_Detrit_S5_L001  LY_BR5_Toxo_S10_L001  LY_BR5_W1_S20_L001  \\\n",
              "0                     84                     5                  27   \n",
              "1                      0                     2                   1   \n",
              "2                   3041                     2                   0   \n",
              "3                    778                     1                 138   \n",
              "4                      0                     0                   4   \n",
              "\n",
              "   PCR_pos_LY_S22_L001  \n",
              "0                    2  \n",
              "1                    2  \n",
              "2                    5  \n",
              "3                    0  \n",
              "4                    1  \n",
              "\n",
              "[5 rows x 23 columns]"
            ],
            "text/html": [
              "\n",
              "  <div id=\"df-7389b366-304d-4e19-9dc6-3fc00f81cdef\">\n",
              "    <div class=\"colab-df-container\">\n",
              "      <div>\n",
              "<style scoped>\n",
              "    .dataframe tbody tr th:only-of-type {\n",
              "        vertical-align: middle;\n",
              "    }\n",
              "\n",
              "    .dataframe tbody tr th {\n",
              "        vertical-align: top;\n",
              "    }\n",
              "\n",
              "    .dataframe thead th {\n",
              "        text-align: right;\n",
              "    }\n",
              "</style>\n",
              "<table border=\"1\" class=\"dataframe\">\n",
              "  <thead>\n",
              "    <tr style=\"text-align: right;\">\n",
              "      <th></th>\n",
              "      <th>Unnamed: 0</th>\n",
              "      <th>EXT_NEG_LY_S21_L001</th>\n",
              "      <th>LY_BR1_D_S11_L001</th>\n",
              "      <th>LY_BR1_Detrit_S1_L001</th>\n",
              "      <th>LY_BR1_Toxo_S6_L001</th>\n",
              "      <th>LY_BR1_W1_S16_L001</th>\n",
              "      <th>LY_BR2_D_S12_L001</th>\n",
              "      <th>LY_BR2_Detrit_S2_L001</th>\n",
              "      <th>LY_BR2_Toxo_S7_L001</th>\n",
              "      <th>LY_BR2_W2_S17_L001</th>\n",
              "      <th>...</th>\n",
              "      <th>LY_BR3_W1_S18_L001</th>\n",
              "      <th>LY_BR4_D_S14_L001</th>\n",
              "      <th>LY_BR4_Detrit_S4_L001</th>\n",
              "      <th>LY_BR4_Toxo_S9_L001</th>\n",
              "      <th>LY_BR4_W1_S19_L001</th>\n",
              "      <th>LY_BR5_D_S15_L001</th>\n",
              "      <th>LY_BR5_Detrit_S5_L001</th>\n",
              "      <th>LY_BR5_Toxo_S10_L001</th>\n",
              "      <th>LY_BR5_W1_S20_L001</th>\n",
              "      <th>PCR_pos_LY_S22_L001</th>\n",
              "    </tr>\n",
              "  </thead>\n",
              "  <tbody>\n",
              "    <tr>\n",
              "      <th>0</th>\n",
              "      <td>Otu0001</td>\n",
              "      <td>2</td>\n",
              "      <td>16</td>\n",
              "      <td>36</td>\n",
              "      <td>11</td>\n",
              "      <td>11689</td>\n",
              "      <td>18</td>\n",
              "      <td>53</td>\n",
              "      <td>126</td>\n",
              "      <td>24764</td>\n",
              "      <td>...</td>\n",
              "      <td>371</td>\n",
              "      <td>13</td>\n",
              "      <td>116</td>\n",
              "      <td>328</td>\n",
              "      <td>67927</td>\n",
              "      <td>24</td>\n",
              "      <td>84</td>\n",
              "      <td>5</td>\n",
              "      <td>27</td>\n",
              "      <td>2</td>\n",
              "    </tr>\n",
              "    <tr>\n",
              "      <th>1</th>\n",
              "      <td>Otu0002</td>\n",
              "      <td>0</td>\n",
              "      <td>1</td>\n",
              "      <td>0</td>\n",
              "      <td>16</td>\n",
              "      <td>8</td>\n",
              "      <td>2</td>\n",
              "      <td>2</td>\n",
              "      <td>33939</td>\n",
              "      <td>10</td>\n",
              "      <td>...</td>\n",
              "      <td>0</td>\n",
              "      <td>0</td>\n",
              "      <td>1</td>\n",
              "      <td>36354</td>\n",
              "      <td>33</td>\n",
              "      <td>4</td>\n",
              "      <td>0</td>\n",
              "      <td>2</td>\n",
              "      <td>1</td>\n",
              "      <td>2</td>\n",
              "    </tr>\n",
              "    <tr>\n",
              "      <th>2</th>\n",
              "      <td>Otu0003</td>\n",
              "      <td>0</td>\n",
              "      <td>1</td>\n",
              "      <td>3144</td>\n",
              "      <td>6</td>\n",
              "      <td>5</td>\n",
              "      <td>2</td>\n",
              "      <td>21403</td>\n",
              "      <td>4</td>\n",
              "      <td>3</td>\n",
              "      <td>...</td>\n",
              "      <td>9</td>\n",
              "      <td>0</td>\n",
              "      <td>13666</td>\n",
              "      <td>3</td>\n",
              "      <td>11</td>\n",
              "      <td>0</td>\n",
              "      <td>3041</td>\n",
              "      <td>2</td>\n",
              "      <td>0</td>\n",
              "      <td>5</td>\n",
              "    </tr>\n",
              "    <tr>\n",
              "      <th>3</th>\n",
              "      <td>Otu0004</td>\n",
              "      <td>0</td>\n",
              "      <td>6</td>\n",
              "      <td>8</td>\n",
              "      <td>3</td>\n",
              "      <td>51387</td>\n",
              "      <td>5</td>\n",
              "      <td>1</td>\n",
              "      <td>3</td>\n",
              "      <td>105</td>\n",
              "      <td>...</td>\n",
              "      <td>52</td>\n",
              "      <td>3</td>\n",
              "      <td>4</td>\n",
              "      <td>0</td>\n",
              "      <td>135</td>\n",
              "      <td>1</td>\n",
              "      <td>778</td>\n",
              "      <td>1</td>\n",
              "      <td>138</td>\n",
              "      <td>0</td>\n",
              "    </tr>\n",
              "    <tr>\n",
              "      <th>4</th>\n",
              "      <td>Otu0006</td>\n",
              "      <td>0</td>\n",
              "      <td>0</td>\n",
              "      <td>1</td>\n",
              "      <td>1</td>\n",
              "      <td>1</td>\n",
              "      <td>1</td>\n",
              "      <td>0</td>\n",
              "      <td>256</td>\n",
              "      <td>0</td>\n",
              "      <td>...</td>\n",
              "      <td>9</td>\n",
              "      <td>1</td>\n",
              "      <td>1</td>\n",
              "      <td>7</td>\n",
              "      <td>1</td>\n",
              "      <td>2</td>\n",
              "      <td>0</td>\n",
              "      <td>0</td>\n",
              "      <td>4</td>\n",
              "      <td>1</td>\n",
              "    </tr>\n",
              "  </tbody>\n",
              "</table>\n",
              "<p>5 rows × 23 columns</p>\n",
              "</div>\n",
              "      <button class=\"colab-df-convert\" onclick=\"convertToInteractive('df-7389b366-304d-4e19-9dc6-3fc00f81cdef')\"\n",
              "              title=\"Convert this dataframe to an interactive table.\"\n",
              "              style=\"display:none;\">\n",
              "        \n",
              "  <svg xmlns=\"http://www.w3.org/2000/svg\" height=\"24px\"viewBox=\"0 0 24 24\"\n",
              "       width=\"24px\">\n",
              "    <path d=\"M0 0h24v24H0V0z\" fill=\"none\"/>\n",
              "    <path d=\"M18.56 5.44l.94 2.06.94-2.06 2.06-.94-2.06-.94-.94-2.06-.94 2.06-2.06.94zm-11 1L8.5 8.5l.94-2.06 2.06-.94-2.06-.94L8.5 2.5l-.94 2.06-2.06.94zm10 10l.94 2.06.94-2.06 2.06-.94-2.06-.94-.94-2.06-.94 2.06-2.06.94z\"/><path d=\"M17.41 7.96l-1.37-1.37c-.4-.4-.92-.59-1.43-.59-.52 0-1.04.2-1.43.59L10.3 9.45l-7.72 7.72c-.78.78-.78 2.05 0 2.83L4 21.41c.39.39.9.59 1.41.59.51 0 1.02-.2 1.41-.59l7.78-7.78 2.81-2.81c.8-.78.8-2.07 0-2.86zM5.41 20L4 18.59l7.72-7.72 1.47 1.35L5.41 20z\"/>\n",
              "  </svg>\n",
              "      </button>\n",
              "      \n",
              "  <style>\n",
              "    .colab-df-container {\n",
              "      display:flex;\n",
              "      flex-wrap:wrap;\n",
              "      gap: 12px;\n",
              "    }\n",
              "\n",
              "    .colab-df-convert {\n",
              "      background-color: #E8F0FE;\n",
              "      border: none;\n",
              "      border-radius: 50%;\n",
              "      cursor: pointer;\n",
              "      display: none;\n",
              "      fill: #1967D2;\n",
              "      height: 32px;\n",
              "      padding: 0 0 0 0;\n",
              "      width: 32px;\n",
              "    }\n",
              "\n",
              "    .colab-df-convert:hover {\n",
              "      background-color: #E2EBFA;\n",
              "      box-shadow: 0px 1px 2px rgba(60, 64, 67, 0.3), 0px 1px 3px 1px rgba(60, 64, 67, 0.15);\n",
              "      fill: #174EA6;\n",
              "    }\n",
              "\n",
              "    [theme=dark] .colab-df-convert {\n",
              "      background-color: #3B4455;\n",
              "      fill: #D2E3FC;\n",
              "    }\n",
              "\n",
              "    [theme=dark] .colab-df-convert:hover {\n",
              "      background-color: #434B5C;\n",
              "      box-shadow: 0px 1px 3px 1px rgba(0, 0, 0, 0.15);\n",
              "      filter: drop-shadow(0px 1px 2px rgba(0, 0, 0, 0.3));\n",
              "      fill: #FFFFFF;\n",
              "    }\n",
              "  </style>\n",
              "\n",
              "      <script>\n",
              "        const buttonEl =\n",
              "          document.querySelector('#df-7389b366-304d-4e19-9dc6-3fc00f81cdef button.colab-df-convert');\n",
              "        buttonEl.style.display =\n",
              "          google.colab.kernel.accessAllowed ? 'block' : 'none';\n",
              "\n",
              "        async function convertToInteractive(key) {\n",
              "          const element = document.querySelector('#df-7389b366-304d-4e19-9dc6-3fc00f81cdef');\n",
              "          const dataTable =\n",
              "            await google.colab.kernel.invokeFunction('convertToInteractive',\n",
              "                                                     [key], {});\n",
              "          if (!dataTable) return;\n",
              "\n",
              "          const docLinkHtml = 'Like what you see? Visit the ' +\n",
              "            '<a target=\"_blank\" href=https://colab.research.google.com/notebooks/data_table.ipynb>data table notebook</a>'\n",
              "            + ' to learn more about interactive tables.';\n",
              "          element.innerHTML = '';\n",
              "          dataTable['output_type'] = 'display_data';\n",
              "          await google.colab.output.renderOutput(dataTable, element);\n",
              "          const docLink = document.createElement('div');\n",
              "          docLink.innerHTML = docLinkHtml;\n",
              "          element.appendChild(docLink);\n",
              "        }\n",
              "      </script>\n",
              "    </div>\n",
              "  </div>\n",
              "  "
            ]
          },
          "metadata": {},
          "execution_count": 10
        }
      ]
    },
    {
      "cell_type": "markdown",
      "source": [
        "Or we can get summary statistics using describe()"
      ],
      "metadata": {
        "id": "TZjD70yern9H"
      }
    },
    {
      "cell_type": "code",
      "source": [
        "df.describe()"
      ],
      "metadata": {
        "colab": {
          "base_uri": "https://localhost:8080/",
          "height": 393
        },
        "id": "_Y2Ai2G8rmOw",
        "outputId": "af156cc9-7998-4024-b3de-7e8371cd3334"
      },
      "execution_count": null,
      "outputs": [
        {
          "output_type": "execute_result",
          "data": {
            "text/plain": [
              "       EXT_NEG_LY_S21_L001  LY_BR1_D_S11_L001  LY_BR1_Detrit_S1_L001  \\\n",
              "count          5222.000000        5222.000000            5222.000000   \n",
              "mean              2.102643           8.027767               8.059173   \n",
              "std             118.577598          71.370708             121.118353   \n",
              "min               0.000000           0.000000               0.000000   \n",
              "25%               0.000000           0.000000               0.000000   \n",
              "50%               0.000000           0.000000               0.000000   \n",
              "75%               0.000000           2.000000               0.000000   \n",
              "max            8508.000000        4034.000000            4273.000000   \n",
              "\n",
              "       LY_BR1_Toxo_S6_L001  LY_BR1_W1_S16_L001  LY_BR2_D_S12_L001  \\\n",
              "count          5222.000000         5222.000000        5222.000000   \n",
              "mean             14.355802           23.550364           7.041555   \n",
              "std             441.296764          737.015838          57.733203   \n",
              "min               0.000000            0.000000           0.000000   \n",
              "25%               0.000000            0.000000           0.000000   \n",
              "50%               0.000000            0.000000           0.000000   \n",
              "75%               0.000000            2.000000           0.000000   \n",
              "max           28564.000000        51387.000000        1820.000000   \n",
              "\n",
              "       LY_BR2_Detrit_S2_L001  LY_BR2_Toxo_S7_L001  LY_BR2_W2_S17_L001  \\\n",
              "count            5222.000000          5222.000000         5222.000000   \n",
              "mean               10.734584            18.470318           11.106664   \n",
              "std               312.083444           496.799396          349.305375   \n",
              "min                 0.000000             0.000000            0.000000   \n",
              "25%                 0.000000             0.000000            0.000000   \n",
              "50%                 0.000000             0.000000            0.000000   \n",
              "75%                 0.000000             0.000000            0.000000   \n",
              "max             21403.000000         33939.000000        24764.000000   \n",
              "\n",
              "       LY_BR3_D_S13_L001  ...  LY_BR3_W1_S18_L001  LY_BR4_D_S14_L001  \\\n",
              "count        5222.000000  ...         5222.000000        5222.000000   \n",
              "mean            6.810992  ...           11.577939           9.891612   \n",
              "std            52.844455  ...           61.678125         227.649394   \n",
              "min             0.000000  ...            0.000000           0.000000   \n",
              "25%             0.000000  ...            0.000000           0.000000   \n",
              "50%             0.000000  ...            1.000000           0.000000   \n",
              "75%             2.000000  ...            4.000000           0.000000   \n",
              "max          2299.000000  ...         1652.000000       15090.000000   \n",
              "\n",
              "       LY_BR4_Detrit_S4_L001  LY_BR4_Toxo_S9_L001  LY_BR4_W1_S19_L001  \\\n",
              "count            5222.000000          5222.000000         5222.000000   \n",
              "mean               13.490234            17.722329           19.446381   \n",
              "std               243.874235           514.948951          940.550216   \n",
              "min                 0.000000             0.000000            0.000000   \n",
              "25%                 0.000000             0.000000            0.000000   \n",
              "50%                 0.000000             0.000000            0.000000   \n",
              "75%                 0.000000             0.000000            2.000000   \n",
              "max             13666.000000         36354.000000        67927.000000   \n",
              "\n",
              "       LY_BR5_D_S15_L001  LY_BR5_Detrit_S5_L001  LY_BR5_Toxo_S10_L001  \\\n",
              "count        5222.000000            5222.000000           5222.000000   \n",
              "mean            8.578322              14.185370              9.205285   \n",
              "std            56.635370             151.540024            120.483475   \n",
              "min             0.000000               0.000000              0.000000   \n",
              "25%             0.000000               0.000000              0.000000   \n",
              "50%             0.000000               0.000000              0.000000   \n",
              "75%             3.000000               0.000000              1.000000   \n",
              "max          1897.000000            7512.000000           5080.000000   \n",
              "\n",
              "       LY_BR5_W1_S20_L001  PCR_pos_LY_S22_L001  \n",
              "count         5222.000000          5222.000000  \n",
              "mean            14.628303            19.733435  \n",
              "std            300.388666           488.573036  \n",
              "min              0.000000             0.000000  \n",
              "25%              0.000000             0.000000  \n",
              "50%              0.000000             0.000000  \n",
              "75%              3.000000             0.000000  \n",
              "max          14607.000000         18536.000000  \n",
              "\n",
              "[8 rows x 22 columns]"
            ],
            "text/html": [
              "\n",
              "  <div id=\"df-fafea7b5-20a2-4ab2-976e-66e2b5018944\">\n",
              "    <div class=\"colab-df-container\">\n",
              "      <div>\n",
              "<style scoped>\n",
              "    .dataframe tbody tr th:only-of-type {\n",
              "        vertical-align: middle;\n",
              "    }\n",
              "\n",
              "    .dataframe tbody tr th {\n",
              "        vertical-align: top;\n",
              "    }\n",
              "\n",
              "    .dataframe thead th {\n",
              "        text-align: right;\n",
              "    }\n",
              "</style>\n",
              "<table border=\"1\" class=\"dataframe\">\n",
              "  <thead>\n",
              "    <tr style=\"text-align: right;\">\n",
              "      <th></th>\n",
              "      <th>EXT_NEG_LY_S21_L001</th>\n",
              "      <th>LY_BR1_D_S11_L001</th>\n",
              "      <th>LY_BR1_Detrit_S1_L001</th>\n",
              "      <th>LY_BR1_Toxo_S6_L001</th>\n",
              "      <th>LY_BR1_W1_S16_L001</th>\n",
              "      <th>LY_BR2_D_S12_L001</th>\n",
              "      <th>LY_BR2_Detrit_S2_L001</th>\n",
              "      <th>LY_BR2_Toxo_S7_L001</th>\n",
              "      <th>LY_BR2_W2_S17_L001</th>\n",
              "      <th>LY_BR3_D_S13_L001</th>\n",
              "      <th>...</th>\n",
              "      <th>LY_BR3_W1_S18_L001</th>\n",
              "      <th>LY_BR4_D_S14_L001</th>\n",
              "      <th>LY_BR4_Detrit_S4_L001</th>\n",
              "      <th>LY_BR4_Toxo_S9_L001</th>\n",
              "      <th>LY_BR4_W1_S19_L001</th>\n",
              "      <th>LY_BR5_D_S15_L001</th>\n",
              "      <th>LY_BR5_Detrit_S5_L001</th>\n",
              "      <th>LY_BR5_Toxo_S10_L001</th>\n",
              "      <th>LY_BR5_W1_S20_L001</th>\n",
              "      <th>PCR_pos_LY_S22_L001</th>\n",
              "    </tr>\n",
              "  </thead>\n",
              "  <tbody>\n",
              "    <tr>\n",
              "      <th>count</th>\n",
              "      <td>5222.000000</td>\n",
              "      <td>5222.000000</td>\n",
              "      <td>5222.000000</td>\n",
              "      <td>5222.000000</td>\n",
              "      <td>5222.000000</td>\n",
              "      <td>5222.000000</td>\n",
              "      <td>5222.000000</td>\n",
              "      <td>5222.000000</td>\n",
              "      <td>5222.000000</td>\n",
              "      <td>5222.000000</td>\n",
              "      <td>...</td>\n",
              "      <td>5222.000000</td>\n",
              "      <td>5222.000000</td>\n",
              "      <td>5222.000000</td>\n",
              "      <td>5222.000000</td>\n",
              "      <td>5222.000000</td>\n",
              "      <td>5222.000000</td>\n",
              "      <td>5222.000000</td>\n",
              "      <td>5222.000000</td>\n",
              "      <td>5222.000000</td>\n",
              "      <td>5222.000000</td>\n",
              "    </tr>\n",
              "    <tr>\n",
              "      <th>mean</th>\n",
              "      <td>2.102643</td>\n",
              "      <td>8.027767</td>\n",
              "      <td>8.059173</td>\n",
              "      <td>14.355802</td>\n",
              "      <td>23.550364</td>\n",
              "      <td>7.041555</td>\n",
              "      <td>10.734584</td>\n",
              "      <td>18.470318</td>\n",
              "      <td>11.106664</td>\n",
              "      <td>6.810992</td>\n",
              "      <td>...</td>\n",
              "      <td>11.577939</td>\n",
              "      <td>9.891612</td>\n",
              "      <td>13.490234</td>\n",
              "      <td>17.722329</td>\n",
              "      <td>19.446381</td>\n",
              "      <td>8.578322</td>\n",
              "      <td>14.185370</td>\n",
              "      <td>9.205285</td>\n",
              "      <td>14.628303</td>\n",
              "      <td>19.733435</td>\n",
              "    </tr>\n",
              "    <tr>\n",
              "      <th>std</th>\n",
              "      <td>118.577598</td>\n",
              "      <td>71.370708</td>\n",
              "      <td>121.118353</td>\n",
              "      <td>441.296764</td>\n",
              "      <td>737.015838</td>\n",
              "      <td>57.733203</td>\n",
              "      <td>312.083444</td>\n",
              "      <td>496.799396</td>\n",
              "      <td>349.305375</td>\n",
              "      <td>52.844455</td>\n",
              "      <td>...</td>\n",
              "      <td>61.678125</td>\n",
              "      <td>227.649394</td>\n",
              "      <td>243.874235</td>\n",
              "      <td>514.948951</td>\n",
              "      <td>940.550216</td>\n",
              "      <td>56.635370</td>\n",
              "      <td>151.540024</td>\n",
              "      <td>120.483475</td>\n",
              "      <td>300.388666</td>\n",
              "      <td>488.573036</td>\n",
              "    </tr>\n",
              "    <tr>\n",
              "      <th>min</th>\n",
              "      <td>0.000000</td>\n",
              "      <td>0.000000</td>\n",
              "      <td>0.000000</td>\n",
              "      <td>0.000000</td>\n",
              "      <td>0.000000</td>\n",
              "      <td>0.000000</td>\n",
              "      <td>0.000000</td>\n",
              "      <td>0.000000</td>\n",
              "      <td>0.000000</td>\n",
              "      <td>0.000000</td>\n",
              "      <td>...</td>\n",
              "      <td>0.000000</td>\n",
              "      <td>0.000000</td>\n",
              "      <td>0.000000</td>\n",
              "      <td>0.000000</td>\n",
              "      <td>0.000000</td>\n",
              "      <td>0.000000</td>\n",
              "      <td>0.000000</td>\n",
              "      <td>0.000000</td>\n",
              "      <td>0.000000</td>\n",
              "      <td>0.000000</td>\n",
              "    </tr>\n",
              "    <tr>\n",
              "      <th>25%</th>\n",
              "      <td>0.000000</td>\n",
              "      <td>0.000000</td>\n",
              "      <td>0.000000</td>\n",
              "      <td>0.000000</td>\n",
              "      <td>0.000000</td>\n",
              "      <td>0.000000</td>\n",
              "      <td>0.000000</td>\n",
              "      <td>0.000000</td>\n",
              "      <td>0.000000</td>\n",
              "      <td>0.000000</td>\n",
              "      <td>...</td>\n",
              "      <td>0.000000</td>\n",
              "      <td>0.000000</td>\n",
              "      <td>0.000000</td>\n",
              "      <td>0.000000</td>\n",
              "      <td>0.000000</td>\n",
              "      <td>0.000000</td>\n",
              "      <td>0.000000</td>\n",
              "      <td>0.000000</td>\n",
              "      <td>0.000000</td>\n",
              "      <td>0.000000</td>\n",
              "    </tr>\n",
              "    <tr>\n",
              "      <th>50%</th>\n",
              "      <td>0.000000</td>\n",
              "      <td>0.000000</td>\n",
              "      <td>0.000000</td>\n",
              "      <td>0.000000</td>\n",
              "      <td>0.000000</td>\n",
              "      <td>0.000000</td>\n",
              "      <td>0.000000</td>\n",
              "      <td>0.000000</td>\n",
              "      <td>0.000000</td>\n",
              "      <td>0.000000</td>\n",
              "      <td>...</td>\n",
              "      <td>1.000000</td>\n",
              "      <td>0.000000</td>\n",
              "      <td>0.000000</td>\n",
              "      <td>0.000000</td>\n",
              "      <td>0.000000</td>\n",
              "      <td>0.000000</td>\n",
              "      <td>0.000000</td>\n",
              "      <td>0.000000</td>\n",
              "      <td>0.000000</td>\n",
              "      <td>0.000000</td>\n",
              "    </tr>\n",
              "    <tr>\n",
              "      <th>75%</th>\n",
              "      <td>0.000000</td>\n",
              "      <td>2.000000</td>\n",
              "      <td>0.000000</td>\n",
              "      <td>0.000000</td>\n",
              "      <td>2.000000</td>\n",
              "      <td>0.000000</td>\n",
              "      <td>0.000000</td>\n",
              "      <td>0.000000</td>\n",
              "      <td>0.000000</td>\n",
              "      <td>2.000000</td>\n",
              "      <td>...</td>\n",
              "      <td>4.000000</td>\n",
              "      <td>0.000000</td>\n",
              "      <td>0.000000</td>\n",
              "      <td>0.000000</td>\n",
              "      <td>2.000000</td>\n",
              "      <td>3.000000</td>\n",
              "      <td>0.000000</td>\n",
              "      <td>1.000000</td>\n",
              "      <td>3.000000</td>\n",
              "      <td>0.000000</td>\n",
              "    </tr>\n",
              "    <tr>\n",
              "      <th>max</th>\n",
              "      <td>8508.000000</td>\n",
              "      <td>4034.000000</td>\n",
              "      <td>4273.000000</td>\n",
              "      <td>28564.000000</td>\n",
              "      <td>51387.000000</td>\n",
              "      <td>1820.000000</td>\n",
              "      <td>21403.000000</td>\n",
              "      <td>33939.000000</td>\n",
              "      <td>24764.000000</td>\n",
              "      <td>2299.000000</td>\n",
              "      <td>...</td>\n",
              "      <td>1652.000000</td>\n",
              "      <td>15090.000000</td>\n",
              "      <td>13666.000000</td>\n",
              "      <td>36354.000000</td>\n",
              "      <td>67927.000000</td>\n",
              "      <td>1897.000000</td>\n",
              "      <td>7512.000000</td>\n",
              "      <td>5080.000000</td>\n",
              "      <td>14607.000000</td>\n",
              "      <td>18536.000000</td>\n",
              "    </tr>\n",
              "  </tbody>\n",
              "</table>\n",
              "<p>8 rows × 22 columns</p>\n",
              "</div>\n",
              "      <button class=\"colab-df-convert\" onclick=\"convertToInteractive('df-fafea7b5-20a2-4ab2-976e-66e2b5018944')\"\n",
              "              title=\"Convert this dataframe to an interactive table.\"\n",
              "              style=\"display:none;\">\n",
              "        \n",
              "  <svg xmlns=\"http://www.w3.org/2000/svg\" height=\"24px\"viewBox=\"0 0 24 24\"\n",
              "       width=\"24px\">\n",
              "    <path d=\"M0 0h24v24H0V0z\" fill=\"none\"/>\n",
              "    <path d=\"M18.56 5.44l.94 2.06.94-2.06 2.06-.94-2.06-.94-.94-2.06-.94 2.06-2.06.94zm-11 1L8.5 8.5l.94-2.06 2.06-.94-2.06-.94L8.5 2.5l-.94 2.06-2.06.94zm10 10l.94 2.06.94-2.06 2.06-.94-2.06-.94-.94-2.06-.94 2.06-2.06.94z\"/><path d=\"M17.41 7.96l-1.37-1.37c-.4-.4-.92-.59-1.43-.59-.52 0-1.04.2-1.43.59L10.3 9.45l-7.72 7.72c-.78.78-.78 2.05 0 2.83L4 21.41c.39.39.9.59 1.41.59.51 0 1.02-.2 1.41-.59l7.78-7.78 2.81-2.81c.8-.78.8-2.07 0-2.86zM5.41 20L4 18.59l7.72-7.72 1.47 1.35L5.41 20z\"/>\n",
              "  </svg>\n",
              "      </button>\n",
              "      \n",
              "  <style>\n",
              "    .colab-df-container {\n",
              "      display:flex;\n",
              "      flex-wrap:wrap;\n",
              "      gap: 12px;\n",
              "    }\n",
              "\n",
              "    .colab-df-convert {\n",
              "      background-color: #E8F0FE;\n",
              "      border: none;\n",
              "      border-radius: 50%;\n",
              "      cursor: pointer;\n",
              "      display: none;\n",
              "      fill: #1967D2;\n",
              "      height: 32px;\n",
              "      padding: 0 0 0 0;\n",
              "      width: 32px;\n",
              "    }\n",
              "\n",
              "    .colab-df-convert:hover {\n",
              "      background-color: #E2EBFA;\n",
              "      box-shadow: 0px 1px 2px rgba(60, 64, 67, 0.3), 0px 1px 3px 1px rgba(60, 64, 67, 0.15);\n",
              "      fill: #174EA6;\n",
              "    }\n",
              "\n",
              "    [theme=dark] .colab-df-convert {\n",
              "      background-color: #3B4455;\n",
              "      fill: #D2E3FC;\n",
              "    }\n",
              "\n",
              "    [theme=dark] .colab-df-convert:hover {\n",
              "      background-color: #434B5C;\n",
              "      box-shadow: 0px 1px 3px 1px rgba(0, 0, 0, 0.15);\n",
              "      filter: drop-shadow(0px 1px 2px rgba(0, 0, 0, 0.3));\n",
              "      fill: #FFFFFF;\n",
              "    }\n",
              "  </style>\n",
              "\n",
              "      <script>\n",
              "        const buttonEl =\n",
              "          document.querySelector('#df-fafea7b5-20a2-4ab2-976e-66e2b5018944 button.colab-df-convert');\n",
              "        buttonEl.style.display =\n",
              "          google.colab.kernel.accessAllowed ? 'block' : 'none';\n",
              "\n",
              "        async function convertToInteractive(key) {\n",
              "          const element = document.querySelector('#df-fafea7b5-20a2-4ab2-976e-66e2b5018944');\n",
              "          const dataTable =\n",
              "            await google.colab.kernel.invokeFunction('convertToInteractive',\n",
              "                                                     [key], {});\n",
              "          if (!dataTable) return;\n",
              "\n",
              "          const docLinkHtml = 'Like what you see? Visit the ' +\n",
              "            '<a target=\"_blank\" href=https://colab.research.google.com/notebooks/data_table.ipynb>data table notebook</a>'\n",
              "            + ' to learn more about interactive tables.';\n",
              "          element.innerHTML = '';\n",
              "          dataTable['output_type'] = 'display_data';\n",
              "          await google.colab.output.renderOutput(dataTable, element);\n",
              "          const docLink = document.createElement('div');\n",
              "          docLink.innerHTML = docLinkHtml;\n",
              "          element.appendChild(docLink);\n",
              "        }\n",
              "      </script>\n",
              "    </div>\n",
              "  </div>\n",
              "  "
            ]
          },
          "metadata": {},
          "execution_count": 11
        }
      ]
    },
    {
      "cell_type": "markdown",
      "source": [
        "# Visualizing Data with Principle Component Analysis (PCA)\n",
        "\n",
        "It is difficult to interpret raw, high-dimensional data. __Visualization__ techniques can help, but in order to visualize data we need to project data into 2-D or 3-D. There are a number of statistics and machine learning methods for performing __dimensionality reduction__ that try to summarize high-dimensional data in a semantically-meaningful low-dimensional space.\n",
        "\n",
        "One of the most widely-used dimensionality reduction techniques is __principle component analysis (PCA)__. Given a data/design/feature matrix of N examples and D features, PCA computes a new set of D features sorted by their importance in explaining the variance of the data. Taking the top K=2 features gives us a compressed representation of our data that can be visualized in a simple plot. PCA can be a little unintuitive, but there are many good explanations of PCA online (e.g. [this](https://www.youtube.com/watch?v=kw9R0nD69OU&ab_channel=Udacity)). "
      ],
      "metadata": {
        "id": "jXu5cBVPsEfn"
      }
    },
    {
      "cell_type": "code",
      "source": [
        "from sklearn.decomposition import PCA\n",
        "\n",
        "pca = PCA()\n",
        "components = pca.fit_transform(df.T)\n",
        "print(f'Transformed data shape: {components.shape}')\n",
        "\n",
        "plt.scatter(components[:,0], components[:,1], alpha=0.5)\n",
        "plt.xlabel('PC1')\n",
        "plt.ylabel('PC2')"
      ],
      "metadata": {
        "colab": {
          "base_uri": "https://localhost:8080/",
          "height": 316
        },
        "id": "LCyu3s7DsZvW",
        "outputId": "a9c88c32-a065-457e-b913-c70ae9f80f6f"
      },
      "execution_count": 18,
      "outputs": [
        {
          "output_type": "stream",
          "name": "stdout",
          "text": [
            "Transformed data shape: (22, 22)\n"
          ]
        },
        {
          "output_type": "execute_result",
          "data": {
            "text/plain": [
              "Text(0, 0.5, 'PC2')"
            ]
          },
          "metadata": {},
          "execution_count": 18
        },
        {
          "output_type": "display_data",
          "data": {
            "text/plain": [
              "<Figure size 432x288 with 1 Axes>"
            ],
            "image/png": "[encoded data removed]"
          },
          "metadata": {
            "needs_background": "light"
          }
        }
      ]
    },
    {
      "cell_type": "markdown",
      "source": [
        "This does not give us a great picture of our dataset, other than suggesting that a couple of our samples look very different from the rest. Are these really outliers? It is too soon to tell. \n",
        "\n",
        "Let's try transforming the data. PCA is a linear model, so it is influenced heavily by large values. Our metagenomic read counts reach large values over 100,000, while the mean over OTUs is usualy less than 10. For data like this, it is often useful to transform the data with a log function. In order to avoid taking the log of zero, we can do a log(x+1) transform."
      ],
      "metadata": {
        "id": "pDzNSVCc0Ydd"
      }
    },
    {
      "cell_type": "code",
      "source": [
        "pca = PCA()\n",
        "components = pca.fit_transform(np.log(df + 1).T)\n",
        "plt.scatter(components[:,0], components[:,1], alpha=0.8)\n",
        "plt.xlabel('PC1')\n",
        "plt.ylabel('PC2')"
      ],
      "metadata": {
        "colab": {
          "base_uri": "https://localhost:8080/",
          "height": 296
        },
        "id": "fXbFaTaV1kak",
        "outputId": "c6f1f2b6-3f91-4048-e8e5-1fec0ed5e3f5"
      },
      "execution_count": null,
      "outputs": [
        {
          "output_type": "execute_result",
          "data": {
            "text/plain": [
              "Text(0, 0.5, 'PC2')"
            ]
          },
          "metadata": {},
          "execution_count": 62
        },
        {
          "output_type": "display_data",
          "data": {
            "text/plain": [
              "<Figure size 432x288 with 1 Axes>"
            ],
            "image/png": "[encoded data removed]"
          },
          "metadata": {
            "needs_background": "light"
          }
        }
      ]
    },
    {
      "cell_type": "markdown",
      "source": [
        "This gives us a different picture of our data. It is _not_ equivalent to simply taking the logarithm of the axes in the previous figure, because the principle components are different.\n",
        "\n",
        "Now let's try coloring the graph by the metadata to see if we can observe any patterns."
      ],
      "metadata": {
        "id": "frgDdcD714pz"
      }
    },
    {
      "cell_type": "code",
      "source": [
        "from sklearn.preprocessing import LabelEncoder\n",
        "\n",
        "def assign_colors(df, meta_data, colorby='sample_type'):\n",
        "  \"\"\" Assign a integer label and color to each unique value in the colorby col.\n",
        "  Returns:\n",
        "    labels = List of integer labels. Has length equal to len(df.columns).\n",
        "    colors = List of colors. Has length equal to len(df.columns).\n",
        "    label_colors = Dict mapping unique keys to colors.\n",
        "  \"\"\"\n",
        "  labels = [meta_data.loc[[sample_name]][colorby][0]\n",
        "          for sample_name in df.columns]\n",
        "  encoder = LabelEncoder()\n",
        "  labels_int = encoder.fit_transform(labels)\n",
        "  cmap = plt.get_cmap('Accent')\n",
        "  num_labels = len(np.unique(labels))\n",
        "  label_colors = {label: cmap(i/num_labels) \n",
        "                  for i, label in enumerate(np.unique(labels))}\n",
        "  colors = [label_colors[label] for label in labels]\n",
        "  return labels, colors, label_colors\n",
        "\n",
        "labels, colors, label_colors = assign_colors(df, meta_data, colorby='sample_type')\n",
        "pca = PCA()\n",
        "components = pca.fit_transform(np.log(df + 1).T)\n",
        "\n",
        "plt.scatter(components[:,0], components[:,1], alpha=0.8, color=colors)\n",
        "plt.xlabel('PC1')\n",
        "plt.ylabel('PC2')\n",
        "\n",
        "# Create a list of scatterplot objects for the legend\n",
        "legend_scatterplots = [plt.scatter([], [], s=50, color=color, label=label)\n",
        "                      for label, color in label_colors.items()]\n",
        "# Add the legend to the plot\n",
        "plt.legend(handles=legend_scatterplots, loc='upper right')"
      ],
      "metadata": {
        "colab": {
          "base_uri": "https://localhost:8080/",
          "height": 297
        },
        "id": "hP3f3NsO25ji",
        "outputId": "f0bee405-2afd-4f80-e1d6-aed029138cd2"
      },
      "execution_count": 21,
      "outputs": [
        {
          "output_type": "execute_result",
          "data": {
            "text/plain": [
              "<matplotlib.legend.Legend at 0x7fe86519a8e0>"
            ]
          },
          "metadata": {},
          "execution_count": 21
        },
        {
          "output_type": "display_data",
          "data": {
            "text/plain": [
              "<Figure size 432x288 with 1 Axes>"
            ],
            "image/png": "[encoded data removed]"
          },
          "metadata": {
            "needs_background": "light"
          }
        }
      ]
    },
    {
      "cell_type": "markdown",
      "source": [
        "Interesting! The principle components definitely contain information about the sample type. We can try to consider more principle components using a 3-D visualization. The plotly library provides an interactive 3-D plot, which is very helpful when trying to visualize 3-D data."
      ],
      "metadata": {
        "id": "vilbIG5oCgRu"
      }
    },
    {
      "cell_type": "code",
      "source": [
        "import plotly.express as px\n",
        "\n",
        "df_pca = pd.DataFrame(components,\n",
        "                      columns=[f'PCA{i+1}' for i in range(df.shape[1])])\n",
        "\n",
        "labels, colors, label_colors = assign_colors(df, meta_data, colorby='sample_type')\n",
        "df_pca['sample_type'] = labels\n",
        "\n",
        "fig = px.scatter_3d(df_pca, x='PCA1', y='PCA2', z='PCA3',\n",
        "                  color='sample_type')\n",
        "fig.show()"
      ],
      "metadata": {
        "colab": {
          "base_uri": "https://localhost:8080/",
          "height": 542
        },
        "id": "ucaQtwCgCzsk",
        "outputId": "d1d220c1-ae31-44a1-b624-dbd332897f65"
      },
      "execution_count": 68,
      "outputs": [
        {
          "output_type": "display_data",
          "data": {
            "text/html": [
              "<html>\n",
              "<head><meta charset=\"utf-8\" /></head>\n",
              "<body>\n",
              "    <div>            <script src=\"https://cdnjs.cloudflare.com/ajax/libs/mathjax/2.7.5/MathJax.js?config=TeX-AMS-MML_SVG\"></script><script type=\"text/javascript\">if (window.MathJax) {MathJax.Hub.Config({SVG: {font: \"STIX-Web\"}});}</script>                <script type=\"text/javascript\">window.PlotlyConfig = {MathJaxConfig: 'local'};</script>\n",
              "        <script src=\"https://cdn.plot.ly/plotly-2.8.3.min.js\"></script>                <div id=\"b9017520-aa82-41f9-b937-cec2017acf13\" class=\"plotly-graph-div\" style=\"height:525px; width:100%;\"></div>            <script type=\"text/javascript\">                                    window.PLOTLYENV=window.PLOTLYENV || {};                                    if (document.getElementById(\"b9017520-aa82-41f9-b937-cec2017acf13\")) {                    Plotly.newPlot(                        \"b9017520-aa82-41f9-b937-cec2017acf13\",                        [{\"hovertemplate\":\"sample_type=Neg_Control<br>PCA1=%{x}<br>PCA2=%{y}<br>PCA3=%{z}<extra></extra>\",\"legendgroup\":\"Neg_Control\",\"marker\":{\"color\":\"#636efa\",\"symbol\":\"circle\"},\"mode\":\"markers\",\"name\":\"Neg_Control\",\"scene\":\"scene\",\"showlegend\":true,\"x\":[-20.279038016301286],\"y\":[-12.131950738672545],\"z\":[-10.51764385652037],\"type\":\"scatter3d\"},{\"hovertemplate\":\"sample_type=Leaf<br>PCA1=%{x}<br>PCA2=%{y}<br>PCA3=%{z}<extra></extra>\",\"legendgroup\":\"Leaf\",\"marker\":{\"color\":\"#EF553B\",\"symbol\":\"circle\"},\"mode\":\"markers\",\"name\":\"Leaf\",\"scene\":\"scene\",\"showlegend\":true,\"x\":[10.327657360227336,-12.224646215472273,49.33741412027216,5.031856052362935,62.413643302709715],\"y\":[44.386837017144764,39.74743208656002,-3.529653223118012,6.822740857019158,-23.699875416137584],\"z\":[-6.557554587961369,-3.0469843562222696,24.553432878702715,-38.387558196557315,-30.78312541170177],\"type\":\"scatter3d\"},{\"hovertemplate\":\"sample_type=Detritivore<br>PCA1=%{x}<br>PCA2=%{y}<br>PCA3=%{z}<extra></extra>\",\"legendgroup\":\"Detritivore\",\"marker\":{\"color\":\"#00cc96\",\"symbol\":\"circle\"},\"mode\":\"markers\",\"name\":\"Detritivore\",\"scene\":\"scene\",\"showlegend\":true,\"x\":[-34.788474775896724,-35.91308829938177,-20.42218280620222,-35.87902695975028,-23.27835785776823],\"y\":[-15.895053013639378,-10.688447386331191,-28.89285781181516,-20.95385293073757,-38.83617003880662],\"z\":[10.209137720868377,5.558357195131466,31.217716947016577,4.3082222037385085,16.78929504914655],\"type\":\"scatter3d\"},{\"hovertemplate\":\"sample_type=Toxo<br>PCA1=%{x}<br>PCA2=%{y}<br>PCA3=%{z}<extra></extra>\",\"legendgroup\":\"Toxo\",\"marker\":{\"color\":\"#ab63fa\",\"symbol\":\"circle\"},\"mode\":\"markers\",\"name\":\"Toxo\",\"scene\":\"scene\",\"showlegend\":true,\"x\":[-31.484038176004944,-23.012940181743545,5.645694143121073,-9.911409274124846,17.315846514095565],\"y\":[-11.365408763523009,20.49465367151175,-17.090808268293014,0.49513882297799355,-22.60160327724046],\"z\":[11.706878147384668,-4.9520284449877465,8.04318304334061,-32.49418567722595,-22.413705682249887],\"type\":\"scatter3d\"},{\"hovertemplate\":\"sample_type=Water<br>PCA1=%{x}<br>PCA2=%{y}<br>PCA3=%{z}<extra></extra>\",\"legendgroup\":\"Water\",\"marker\":{\"color\":\"#FFA15A\",\"symbol\":\"circle\"},\"mode\":\"markers\",\"name\":\"Water\",\"scene\":\"scene\",\"showlegend\":true,\"x\":[4.444102639322128,-15.905748696089775,62.718968419843534,5.726495809612441,60.84497548447153],\"y\":[61.242058030013055,39.038469702825005,4.068906832671825,27.907298511448424,-25.00873585050321],\"z\":[18.069840427305962,7.893389883895036,58.299948485458344,-20.048547639564802,-16.328577599371865],\"type\":\"scatter3d\"},{\"hovertemplate\":\"sample_type=Pos_Control<br>PCA1=%{x}<br>PCA2=%{y}<br>PCA3=%{z}<extra></extra>\",\"legendgroup\":\"Pos_Control\",\"marker\":{\"color\":\"#19d3f3\",\"symbol\":\"circle\"},\"mode\":\"markers\",\"name\":\"Pos_Control\",\"scene\":\"scene\",\"showlegend\":true,\"x\":[-20.707702587302407],\"y\":[-13.509118813354215],\"z\":[-11.119490529625356],\"type\":\"scatter3d\"}],                        {\"template\":{\"data\":{\"bar\":[{\"error_x\":{\"color\":\"#2a3f5f\"},\"error_y\":{\"color\":\"#2a3f5f\"},\"marker\":{\"line\":{\"color\":\"#E5ECF6\",\"width\":0.5},\"pattern\":{\"fillmode\":\"overlay\",\"size\":10,\"solidity\":0.2}},\"type\":\"bar\"}],\"barpolar\":[{\"marker\":{\"line\":{\"color\":\"#E5ECF6\",\"width\":0.5},\"pattern\":{\"fillmode\":\"overlay\",\"size\":10,\"solidity\":0.2}},\"type\":\"barpolar\"}],\"carpet\":[{\"aaxis\":{\"endlinecolor\":\"#2a3f5f\",\"gridcolor\":\"white\",\"linecolor\":\"white\",\"minorgridcolor\":\"white\",\"startlinecolor\":\"#2a3f5f\"},\"baxis\":{\"endlinecolor\":\"#2a3f5f\",\"gridcolor\":\"white\",\"linecolor\":\"white\",\"minorgridcolor\":\"white\",\"startlinecolor\":\"#2a3f5f\"},\"type\":\"carpet\"}],\"choropleth\":[{\"colorbar\":{\"outlinewidth\":0,\"ticks\":\"\"},\"type\":\"choropleth\"}],\"contour\":[{\"colorbar\":{\"outlinewidth\":0,\"ticks\":\"\"},\"colorscale\":[[0.0,\"#0d0887\"],[0.1111111111111111,\"#46039f\"],[0.2222222222222222,\"#7201a8\"],[0.3333333333333333,\"#9c179e\"],[0.4444444444444444,\"#bd3786\"],[0.5555555555555556,\"#d8576b\"],[0.6666666666666666,\"#ed7953\"],[0.7777777777777778,\"#fb9f3a\"],[0.8888888888888888,\"#fdca26\"],[1.0,\"#f0f921\"]],\"type\":\"contour\"}],\"contourcarpet\":[{\"colorbar\":{\"outlinewidth\":0,\"ticks\":\"\"},\"type\":\"contourcarpet\"}],\"heatmap\":[{\"colorbar\":{\"outlinewidth\":0,\"ticks\":\"\"},\"colorscale\":[[0.0,\"#0d0887\"],[0.1111111111111111,\"#46039f\"],[0.2222222222222222,\"#7201a8\"],[0.3333333333333333,\"#9c179e\"],[0.4444444444444444,\"#bd3786\"],[0.5555555555555556,\"#d8576b\"],[0.6666666666666666,\"#ed7953\"],[0.7777777777777778,\"#fb9f3a\"],[0.8888888888888888,\"#fdca26\"],[1.0,\"#f0f921\"]],\"type\":\"heatmap\"}],\"heatmapgl\":[{\"colorbar\":{\"outlinewidth\":0,\"ticks\":\"\"},\"colorscale\":[[0.0,\"#0d0887\"],[0.1111111111111111,\"#46039f\"],[0.2222222222222222,\"#7201a8\"],[0.3333333333333333,\"#9c179e\"],[0.4444444444444444,\"#bd3786\"],[0.5555555555555556,\"#d8576b\"],[0.6666666666666666,\"#ed7953\"],[0.7777777777777778,\"#fb9f3a\"],[0.8888888888888888,\"#fdca26\"],[1.0,\"#f0f921\"]],\"type\":\"heatmapgl\"}],\"histogram\":[{\"marker\":{\"pattern\":{\"fillmode\":\"overlay\",\"size\":10,\"solidity\":0.2}},\"type\":\"histogram\"}],\"histogram2d\":[{\"colorbar\":{\"outlinewidth\":0,\"ticks\":\"\"},\"colorscale\":[[0.0,\"#0d0887\"],[0.1111111111111111,\"#46039f\"],[0.2222222222222222,\"#7201a8\"],[0.3333333333333333,\"#9c179e\"],[0.4444444444444444,\"#bd3786\"],[0.5555555555555556,\"#d8576b\"],[0.6666666666666666,\"#ed7953\"],[0.7777777777777778,\"#fb9f3a\"],[0.8888888888888888,\"#fdca26\"],[1.0,\"#f0f921\"]],\"type\":\"histogram2d\"}],\"histogram2dcontour\":[{\"colorbar\":{\"outlinewidth\":0,\"ticks\":\"\"},\"colorscale\":[[0.0,\"#0d0887\"],[0.1111111111111111,\"#46039f\"],[0.2222222222222222,\"#7201a8\"],[0.3333333333333333,\"#9c179e\"],[0.4444444444444444,\"#bd3786\"],[0.5555555555555556,\"#d8576b\"],[0.6666666666666666,\"#ed7953\"],[0.7777777777777778,\"#fb9f3a\"],[0.8888888888888888,\"#fdca26\"],[1.0,\"#f0f921\"]],\"type\":\"histogram2dcontour\"}],\"mesh3d\":[{\"colorbar\":{\"outlinewidth\":0,\"ticks\":\"\"},\"type\":\"mesh3d\"}],\"parcoords\":[{\"line\":{\"colorbar\":{\"outlinewidth\":0,\"ticks\":\"\"}},\"type\":\"parcoords\"}],\"pie\":[{\"automargin\":true,\"type\":\"pie\"}],\"scatter\":[{\"marker\":{\"colorbar\":{\"outlinewidth\":0,\"ticks\":\"\"}},\"type\":\"scatter\"}],\"scatter3d\":[{\"line\":{\"colorbar\":{\"outlinewidth\":0,\"ticks\":\"\"}},\"marker\":{\"colorbar\":{\"outlinewidth\":0,\"ticks\":\"\"}},\"type\":\"scatter3d\"}],\"scattercarpet\":[{\"marker\":{\"colorbar\":{\"outlinewidth\":0,\"ticks\":\"\"}},\"type\":\"scattercarpet\"}],\"scattergeo\":[{\"marker\":{\"colorbar\":{\"outlinewidth\":0,\"ticks\":\"\"}},\"type\":\"scattergeo\"}],\"scattergl\":[{\"marker\":{\"colorbar\":{\"outlinewidth\":0,\"ticks\":\"\"}},\"type\":\"scattergl\"}],\"scattermapbox\":[{\"marker\":{\"colorbar\":{\"outlinewidth\":0,\"ticks\":\"\"}},\"type\":\"scattermapbox\"}],\"scatterpolar\":[{\"marker\":{\"colorbar\":{\"outlinewidth\":0,\"ticks\":\"\"}},\"type\":\"scatterpolar\"}],\"scatterpolargl\":[{\"marker\":{\"colorbar\":{\"outlinewidth\":0,\"ticks\":\"\"}},\"type\":\"scatterpolargl\"}],\"scatterternary\":[{\"marker\":{\"colorbar\":{\"outlinewidth\":0,\"ticks\":\"\"}},\"type\":\"scatterternary\"}],\"surface\":[{\"colorbar\":{\"outlinewidth\":0,\"ticks\":\"\"},\"colorscale\":[[0.0,\"#0d0887\"],[0.1111111111111111,\"#46039f\"],[0.2222222222222222,\"#7201a8\"],[0.3333333333333333,\"#9c179e\"],[0.4444444444444444,\"#bd3786\"],[0.5555555555555556,\"#d8576b\"],[0.6666666666666666,\"#ed7953\"],[0.7777777777777778,\"#fb9f3a\"],[0.8888888888888888,\"#fdca26\"],[1.0,\"#f0f921\"]],\"type\":\"surface\"}],\"table\":[{\"cells\":{\"fill\":{\"color\":\"#EBF0F8\"},\"line\":{\"color\":\"white\"}},\"header\":{\"fill\":{\"color\":\"#C8D4E3\"},\"line\":{\"color\":\"white\"}},\"type\":\"table\"}]},\"layout\":{\"annotationdefaults\":{\"arrowcolor\":\"#2a3f5f\",\"arrowhead\":0,\"arrowwidth\":1},\"autotypenumbers\":\"strict\",\"coloraxis\":{\"colorbar\":{\"outlinewidth\":0,\"ticks\":\"\"}},\"colorscale\":{\"diverging\":[[0,\"#8e0152\"],[0.1,\"#c51b7d\"],[0.2,\"#de77ae\"],[0.3,\"#f1b6da\"],[0.4,\"#fde0ef\"],[0.5,\"#f7f7f7\"],[0.6,\"#e6f5d0\"],[0.7,\"#b8e186\"],[0.8,\"#7fbc41\"],[0.9,\"#4d9221\"],[1,\"#276419\"]],\"sequential\":[[0.0,\"#0d0887\"],[0.1111111111111111,\"#46039f\"],[0.2222222222222222,\"#7201a8\"],[0.3333333333333333,\"#9c179e\"],[0.4444444444444444,\"#bd3786\"],[0.5555555555555556,\"#d8576b\"],[0.6666666666666666,\"#ed7953\"],[0.7777777777777778,\"#fb9f3a\"],[0.8888888888888888,\"#fdca26\"],[1.0,\"#f0f921\"]],\"sequentialminus\":[[0.0,\"#0d0887\"],[0.1111111111111111,\"#46039f\"],[0.2222222222222222,\"#7201a8\"],[0.3333333333333333,\"#9c179e\"],[0.4444444444444444,\"#bd3786\"],[0.5555555555555556,\"#d8576b\"],[0.6666666666666666,\"#ed7953\"],[0.7777777777777778,\"#fb9f3a\"],[0.8888888888888888,\"#fdca26\"],[1.0,\"#f0f921\"]]},\"colorway\":[\"#636efa\",\"#EF553B\",\"#00cc96\",\"#ab63fa\",\"#FFA15A\",\"#19d3f3\",\"#FF6692\",\"#B6E880\",\"#FF97FF\",\"#FECB52\"],\"font\":{\"color\":\"#2a3f5f\"},\"geo\":{\"bgcolor\":\"white\",\"lakecolor\":\"white\",\"landcolor\":\"#E5ECF6\",\"showlakes\":true,\"showland\":true,\"subunitcolor\":\"white\"},\"hoverlabel\":{\"align\":\"left\"},\"hovermode\":\"closest\",\"mapbox\":{\"style\":\"light\"},\"paper_bgcolor\":\"white\",\"plot_bgcolor\":\"#E5ECF6\",\"polar\":{\"angularaxis\":{\"gridcolor\":\"white\",\"linecolor\":\"white\",\"ticks\":\"\"},\"bgcolor\":\"#E5ECF6\",\"radialaxis\":{\"gridcolor\":\"white\",\"linecolor\":\"white\",\"ticks\":\"\"}},\"scene\":{\"xaxis\":{\"backgroundcolor\":\"#E5ECF6\",\"gridcolor\":\"white\",\"gridwidth\":2,\"linecolor\":\"white\",\"showbackground\":true,\"ticks\":\"\",\"zerolinecolor\":\"white\"},\"yaxis\":{\"backgroundcolor\":\"#E5ECF6\",\"gridcolor\":\"white\",\"gridwidth\":2,\"linecolor\":\"white\",\"showbackground\":true,\"ticks\":\"\",\"zerolinecolor\":\"white\"},\"zaxis\":{\"backgroundcolor\":\"#E5ECF6\",\"gridcolor\":\"white\",\"gridwidth\":2,\"linecolor\":\"white\",\"showbackground\":true,\"ticks\":\"\",\"zerolinecolor\":\"white\"}},\"shapedefaults\":{\"line\":{\"color\":\"#2a3f5f\"}},\"ternary\":{\"aaxis\":{\"gridcolor\":\"white\",\"linecolor\":\"white\",\"ticks\":\"\"},\"baxis\":{\"gridcolor\":\"white\",\"linecolor\":\"white\",\"ticks\":\"\"},\"bgcolor\":\"#E5ECF6\",\"caxis\":{\"gridcolor\":\"white\",\"linecolor\":\"white\",\"ticks\":\"\"}},\"title\":{\"x\":0.05},\"xaxis\":{\"automargin\":true,\"gridcolor\":\"white\",\"linecolor\":\"white\",\"ticks\":\"\",\"title\":{\"standoff\":15},\"zerolinecolor\":\"white\",\"zerolinewidth\":2},\"yaxis\":{\"automargin\":true,\"gridcolor\":\"white\",\"linecolor\":\"white\",\"ticks\":\"\",\"title\":{\"standoff\":15},\"zerolinecolor\":\"white\",\"zerolinewidth\":2}}},\"scene\":{\"domain\":{\"x\":[0.0,1.0],\"y\":[0.0,1.0]},\"xaxis\":{\"title\":{\"text\":\"PCA1\"}},\"yaxis\":{\"title\":{\"text\":\"PCA2\"}},\"zaxis\":{\"title\":{\"text\":\"PCA3\"}}},\"legend\":{\"title\":{\"text\":\"sample_type\"},\"tracegroupgap\":0},\"margin\":{\"t\":60}},                        {\"responsive\": true}                    ).then(function(){\n",
              "                            \n",
              "var gd = document.getElementById('b9017520-aa82-41f9-b937-cec2017acf13');\n",
              "var x = new MutationObserver(function (mutations, observer) {{\n",
              "        var display = window.getComputedStyle(gd).display;\n",
              "        if (!display || display === 'none') {{\n",
              "            console.log([gd, 'removed!']);\n",
              "            Plotly.purge(gd);\n",
              "            observer.disconnect();\n",
              "        }}\n",
              "}});\n",
              "\n",
              "// Listen for the removal of the full notebook cells\n",
              "var notebookContainer = gd.closest('#notebook-container');\n",
              "if (notebookContainer) {{\n",
              "    x.observe(notebookContainer, {childList: true});\n",
              "}}\n",
              "\n",
              "// Listen for the clearing of the current output cell\n",
              "var outputEl = gd.closest('.output');\n",
              "if (outputEl) {{\n",
              "    x.observe(outputEl, {childList: true});\n",
              "}}\n",
              "\n",
              "                        })                };                            </script>        </div>\n",
              "</body>\n",
              "</html>"
            ]
          },
          "metadata": {}
        }
      ]
    },
    {
      "cell_type": "markdown",
      "source": [
        "\n",
        "Let's try one more meta data feature: the bromeliad number. Since the two control samples don't have a bromeliad number (the values in the table are NaN), we need to fill in a value of zero. "
      ],
      "metadata": {
        "id": "6FKPZt3kA6Dn"
      }
    },
    {
      "cell_type": "code",
      "source": [
        "\n",
        "colorby = 'bro_number'\n",
        "# Zero-fill missing bro_numbers.\n",
        "meta_data_filled = meta_data[['bro_number']].fillna(value=0)\n",
        "labels = [meta_data_filled.loc[[sample_name]][colorby][0]\n",
        "         for sample_name in df.columns]\n",
        "encoder = LabelEncoder()\n",
        "labels_int = encoder.fit_transform(labels)\n",
        "cmap = plt.get_cmap('viridis')\n",
        "num_labels = len(np.unique(labels))\n",
        "label_colors = {label: cmap(i/num_labels) \n",
        "                for i, label in enumerate(np.unique(labels))}\n",
        "colors = [label_colors[label] for label in labels]\n",
        "\n",
        "plt.scatter(components[:,0], components[:,1], alpha=0.8, color=colors)\n",
        "plt.xlabel('PC1')\n",
        "plt.ylabel('PC2')\n",
        "\n",
        "# Create a list of scatterplot objects for the legend\n",
        "legend_scatterplots = [plt.scatter([], [], s=50, color=color, label=label)\n",
        "                      for label, color in label_colors.items()]\n",
        "# Add the legend to the plot\n",
        "plt.legend(handles=legend_scatterplots, loc='upper right')"
      ],
      "metadata": {
        "colab": {
          "base_uri": "https://localhost:8080/",
          "height": 296
        },
        "id": "bXGCDrvM8k5z",
        "outputId": "54d01f22-7052-4246-9995-505ab615470e"
      },
      "execution_count": null,
      "outputs": [
        {
          "output_type": "execute_result",
          "data": {
            "text/plain": [
              "<matplotlib.legend.Legend at 0x7fb24fd6bd60>"
            ]
          },
          "metadata": {},
          "execution_count": 125
        },
        {
          "output_type": "display_data",
          "data": {
            "text/plain": [
              "<Figure size 432x288 with 1 Axes>"
            ],
            "image/png": "[encoded data removed]"
          },
          "metadata": {
            "needs_background": "light"
          }
        }
      ]
    },
    {
      "cell_type": "markdown",
      "source": [
        "This seems to have some correllation too, but maybe not as much.\n",
        "\n",
        "# Visualizing the Data with UMAP"
      ],
      "metadata": {
        "id": "Ma1cJyJc6vaX"
      }
    },
    {
      "cell_type": "markdown",
      "source": [
        "PCA is nice because it is: (1) fast; (2) deterministic, such that the outcome is the same if you rerun the algorithm; and (3) interpretable. However, as seen in the initial attempt above, projecting the data onto the first two principle components is often uninformative. \n",
        "\n",
        "There are many other methods for visualizing high-dimensional data, including __multidimensional scaling (MDS)__, __t-distributed stochastic neighbor embedding (t-SNE)__, __uniform manifold approximation and projection (UMAP)__, and others. These methods have lots of tuneable parameters, and it is common to explore a dataset by trying many different approaches and using the visualizations to form hypotheses about the data. In particular, one can always produce distinct clusters from a dataset, but these clusters do not necessarily correspond to anything useful. For this reason, scientists should be wary about interpreting these visualizations. \n",
        "\n",
        "This section will explore UMAP, a variant of the t-SNE method that scales better to large datasets. See this [blog post](https://pair-code.github.io/understanding-umap/) by Google Research for a nice explanation. We will use the [umap-learn](https://umap-learn.readthedocs.io/en/latest/parameters.html) python library."
      ],
      "metadata": {
        "id": "xza_x1yUFSmR"
      }
    },
    {
      "cell_type": "code",
      "source": [
        "!pip install umap-learn\n",
        "import umap "
      ],
      "metadata": {
        "id": "TOUS0rqacDug"
      },
      "execution_count": null,
      "outputs": []
    },
    {
      "cell_type": "markdown",
      "source": [
        "Lets try plotting our samples using the default parameters."
      ],
      "metadata": {
        "id": "FNmTww75fRPR"
      }
    },
    {
      "cell_type": "code",
      "source": [
        "fit = umap.UMAP()\n",
        "%time u = fit.fit_transform(np.log(1+df).T)\n",
        "\n",
        "labels, colors, label_colors = assign_colors(df, meta_data, colorby='sample_type')\n",
        "\n",
        "plt.scatter(u[:,0], u[:,1], color=colors)\n",
        "plt.xlabel('UMAP 1')\n",
        "plt.ylabel('UMAP 2')\n",
        "# Create a list of scatterplot objects for the legend\n",
        "legend_scatterplots = [plt.scatter([], [], s=50, color=color, label=label)\n",
        "                      for label, color in label_colors.items()]\n",
        "# Add the legend to the plot\n",
        "plt.legend(handles=legend_scatterplots)"
      ],
      "metadata": {
        "colab": {
          "base_uri": "https://localhost:8080/",
          "height": 338
        },
        "id": "YtYXwn-vappI",
        "outputId": "7fb91917-5a0c-4f2f-f8aa-e603cdc51505"
      },
      "execution_count": 35,
      "outputs": [
        {
          "output_type": "stream",
          "name": "stdout",
          "text": [
            "CPU times: user 4.42 s, sys: 23.8 ms, total: 4.44 s\n",
            "Wall time: 5.62 s\n"
          ]
        },
        {
          "output_type": "execute_result",
          "data": {
            "text/plain": [
              "<matplotlib.legend.Legend at 0x7fe857bf77f0>"
            ]
          },
          "metadata": {},
          "execution_count": 35
        },
        {
          "output_type": "display_data",
          "data": {
            "text/plain": [
              "<Figure size 432x288 with 1 Axes>"
            ],
            "image/png": "[encoded data removed]"
          },
          "metadata": {
            "needs_background": "light"
          }
        }
      ]
    },
    {
      "cell_type": "markdown",
      "source": [
        "By adjusting the parameters of the UMAP algorithm, we can get very different results."
      ],
      "metadata": {
        "id": "qDWczQv0hg2o"
      }
    },
    {
      "cell_type": "code",
      "source": [
        "fit = umap.UMAP(n_neighbors=5, min_dist=0.1, n_components=2, metric='cosine')\n",
        "%time u = fit.fit_transform(np.log(1+df).T)\n",
        "\n",
        "plt.scatter(u[:,0], u[:,1], color=colors)\n",
        "plt.xlabel('UMAP 1')\n",
        "plt.ylabel('UMAP 2')\n",
        "# Create a list of scatterplot objects for the legend\n",
        "legend_scatterplots = [plt.scatter([], [], s=50, color=color, label=label)\n",
        "                      for label, color in label_colors.items()]\n",
        "# Add the legend to the plot\n",
        "plt.legend(handles=legend_scatterplots)"
      ],
      "metadata": {
        "colab": {
          "base_uri": "https://localhost:8080/",
          "height": 335
        },
        "id": "OiEH5Cy5cc3B",
        "outputId": "e4b486b6-f37d-4339-e8fc-17d6c4a99d35"
      },
      "execution_count": 63,
      "outputs": [
        {
          "output_type": "stream",
          "name": "stdout",
          "text": [
            "CPU times: user 4.38 s, sys: 38.4 ms, total: 4.42 s\n",
            "Wall time: 5.43 s\n"
          ]
        },
        {
          "output_type": "execute_result",
          "data": {
            "text/plain": [
              "<matplotlib.legend.Legend at 0x7fe85919c3d0>"
            ]
          },
          "metadata": {},
          "execution_count": 63
        },
        {
          "output_type": "display_data",
          "data": {
            "text/plain": [
              "<Figure size 432x288 with 1 Axes>"
            ],
            "image/png": "[encoded data removed]"
          },
          "metadata": {
            "needs_background": "light"
          }
        }
      ]
    },
    {
      "cell_type": "markdown",
      "source": [
        "We can also do a 3-D UMAP."
      ],
      "metadata": {
        "id": "PTlX5h_oidwd"
      }
    },
    {
      "cell_type": "code",
      "source": [
        "import plotly.express as px\n",
        "\n",
        "fit = umap.UMAP(n_neighbors=5, min_dist=0.1, n_components=3, metric='cosine')\n",
        "%time u = fit.fit_transform(np.log(1+df).T)\n",
        "\n",
        "df_umap = pd.DataFrame(u, columns=[f'UMAP{i}' for i in range(1, 4)])\n",
        "df_umap['sample_type'] = labels\n",
        "\n",
        "fig = px.scatter_3d(df_umap, x='UMAP1', y='UMAP2', z='UMAP3',\n",
        "                    color='sample_type')\n",
        "fig.show()"
      ],
      "metadata": {
        "colab": {
          "base_uri": "https://localhost:8080/",
          "height": 579
        },
        "id": "HQFlsycwlDir",
        "outputId": "0da3c8dd-23a5-4b8e-a6df-d6d78a006613"
      },
      "execution_count": 67,
      "outputs": [
        {
          "output_type": "stream",
          "name": "stdout",
          "text": [
            "CPU times: user 3.45 s, sys: 20.2 ms, total: 3.47 s\n",
            "Wall time: 5.58 s\n"
          ]
        },
        {
          "output_type": "display_data",
          "data": {
            "text/html": [
              "<html>\n",
              "<head><meta charset=\"utf-8\" /></head>\n",
              "<body>\n",
              "    <div>            <script src=\"https://cdnjs.cloudflare.com/ajax/libs/mathjax/2.7.5/MathJax.js?config=TeX-AMS-MML_SVG\"></script><script type=\"text/javascript\">if (window.MathJax) {MathJax.Hub.Config({SVG: {font: \"STIX-Web\"}});}</script>                <script type=\"text/javascript\">window.PlotlyConfig = {MathJaxConfig: 'local'};</script>\n",
              "        <script src=\"https://cdn.plot.ly/plotly-2.8.3.min.js\"></script>                <div id=\"04f2da0e-bd66-4602-b23b-de9f8eda7f82\" class=\"plotly-graph-div\" style=\"height:525px; width:100%;\"></div>            <script type=\"text/javascript\">                                    window.PLOTLYENV=window.PLOTLYENV || {};                                    if (document.getElementById(\"04f2da0e-bd66-4602-b23b-de9f8eda7f82\")) {                    Plotly.newPlot(                        \"04f2da0e-bd66-4602-b23b-de9f8eda7f82\",                        [{\"hovertemplate\":\"sample_type=Neg_Control<br>UMAP1=%{x}<br>UMAP2=%{y}<br>UMAP3=%{z}<extra></extra>\",\"legendgroup\":\"Neg_Control\",\"marker\":{\"color\":\"#636efa\",\"symbol\":\"circle\"},\"mode\":\"markers\",\"name\":\"Neg_Control\",\"scene\":\"scene\",\"showlegend\":true,\"x\":[0.9036665558815002],\"y\":[9.619040489196777],\"z\":[6.414462089538574],\"type\":\"scatter3d\"},{\"hovertemplate\":\"sample_type=Leaf<br>UMAP1=%{x}<br>UMAP2=%{y}<br>UMAP3=%{z}<extra></extra>\",\"legendgroup\":\"Leaf\",\"marker\":{\"color\":\"#EF553B\",\"symbol\":\"circle\"},\"mode\":\"markers\",\"name\":\"Leaf\",\"scene\":\"scene\",\"showlegend\":true,\"x\":[-3.291875123977661,-2.5499885082244873,-5.109930992126465,-3.665884017944336,-4.774317264556885],\"y\":[2.112475633621216,1.742627739906311,4.376666069030762,2.5361716747283936,3.849102020263672],\"z\":[0.26144158840179443,-0.4255681335926056,3.4875431060791016,0.7081433534622192,2.939913511276245],\"type\":\"scatter3d\"},{\"hovertemplate\":\"sample_type=Detritivore<br>UMAP1=%{x}<br>UMAP2=%{y}<br>UMAP3=%{z}<extra></extra>\",\"legendgroup\":\"Detritivore\",\"marker\":{\"color\":\"#00cc96\",\"symbol\":\"circle\"},\"mode\":\"markers\",\"name\":\"Detritivore\",\"scene\":\"scene\",\"showlegend\":true,\"x\":[0.4905732572078705,0.9005112051963806,-0.021869823336601257,0.5154374837875366,0.2890813946723938],\"y\":[10.086466789245605,9.971793174743652,9.749187469482422,9.522470474243164,10.049309730529785],\"z\":[7.043999671936035,6.872326374053955,6.525264263153076,6.708364963531494,6.296593189239502],\"type\":\"scatter3d\"},{\"hovertemplate\":\"sample_type=Toxo<br>UMAP1=%{x}<br>UMAP2=%{y}<br>UMAP3=%{z}<extra></extra>\",\"legendgroup\":\"Toxo\",\"marker\":{\"color\":\"#ab63fa\",\"symbol\":\"circle\"},\"mode\":\"markers\",\"name\":\"Toxo\",\"scene\":\"scene\",\"showlegend\":true,\"x\":[0.6348391771316528,-2.141922950744629,-4.8055338859558105,-3.718679666519165,-4.836439609527588],\"y\":[10.409586906433105,1.6554505825042725,5.120237350463867,3.0199992656707764,3.8383305072784424],\"z\":[6.747432231903076,-0.2029341757297516,3.337963819503784,0.9339655041694641,2.5491943359375],\"type\":\"scatter3d\"},{\"hovertemplate\":\"sample_type=Water<br>UMAP1=%{x}<br>UMAP2=%{y}<br>UMAP3=%{z}<extra></extra>\",\"legendgroup\":\"Water\",\"marker\":{\"color\":\"#FFA15A\",\"symbol\":\"circle\"},\"mode\":\"markers\",\"name\":\"Water\",\"scene\":\"scene\",\"showlegend\":true,\"x\":[-2.940826654434204,-2.439199686050415,-4.88712215423584,-3.2784910202026367,-5.072185516357422],\"y\":[1.859224557876587,1.416347861289978,4.624934673309326,2.5993456840515137,4.164181232452393],\"z\":[0.04727206006646156,-0.03235611692070961,3.217791795730591,0.4037879705429077,2.9077277183532715],\"type\":\"scatter3d\"},{\"hovertemplate\":\"sample_type=Pos_Control<br>UMAP1=%{x}<br>UMAP2=%{y}<br>UMAP3=%{z}<extra></extra>\",\"legendgroup\":\"Pos_Control\",\"marker\":{\"color\":\"#19d3f3\",\"symbol\":\"circle\"},\"mode\":\"markers\",\"name\":\"Pos_Control\",\"scene\":\"scene\",\"showlegend\":true,\"x\":[-4.406348705291748],\"y\":[5.151269435882568],\"z\":[3.426024913787842],\"type\":\"scatter3d\"}],                        {\"template\":{\"data\":{\"bar\":[{\"error_x\":{\"color\":\"#2a3f5f\"},\"error_y\":{\"color\":\"#2a3f5f\"},\"marker\":{\"line\":{\"color\":\"#E5ECF6\",\"width\":0.5},\"pattern\":{\"fillmode\":\"overlay\",\"size\":10,\"solidity\":0.2}},\"type\":\"bar\"}],\"barpolar\":[{\"marker\":{\"line\":{\"color\":\"#E5ECF6\",\"width\":0.5},\"pattern\":{\"fillmode\":\"overlay\",\"size\":10,\"solidity\":0.2}},\"type\":\"barpolar\"}],\"carpet\":[{\"aaxis\":{\"endlinecolor\":\"#2a3f5f\",\"gridcolor\":\"white\",\"linecolor\":\"white\",\"minorgridcolor\":\"white\",\"startlinecolor\":\"#2a3f5f\"},\"baxis\":{\"endlinecolor\":\"#2a3f5f\",\"gridcolor\":\"white\",\"linecolor\":\"white\",\"minorgridcolor\":\"white\",\"startlinecolor\":\"#2a3f5f\"},\"type\":\"carpet\"}],\"choropleth\":[{\"colorbar\":{\"outlinewidth\":0,\"ticks\":\"\"},\"type\":\"choropleth\"}],\"contour\":[{\"colorbar\":{\"outlinewidth\":0,\"ticks\":\"\"},\"colorscale\":[[0.0,\"#0d0887\"],[0.1111111111111111,\"#46039f\"],[0.2222222222222222,\"#7201a8\"],[0.3333333333333333,\"#9c179e\"],[0.4444444444444444,\"#bd3786\"],[0.5555555555555556,\"#d8576b\"],[0.6666666666666666,\"#ed7953\"],[0.7777777777777778,\"#fb9f3a\"],[0.8888888888888888,\"#fdca26\"],[1.0,\"#f0f921\"]],\"type\":\"contour\"}],\"contourcarpet\":[{\"colorbar\":{\"outlinewidth\":0,\"ticks\":\"\"},\"type\":\"contourcarpet\"}],\"heatmap\":[{\"colorbar\":{\"outlinewidth\":0,\"ticks\":\"\"},\"colorscale\":[[0.0,\"#0d0887\"],[0.1111111111111111,\"#46039f\"],[0.2222222222222222,\"#7201a8\"],[0.3333333333333333,\"#9c179e\"],[0.4444444444444444,\"#bd3786\"],[0.5555555555555556,\"#d8576b\"],[0.6666666666666666,\"#ed7953\"],[0.7777777777777778,\"#fb9f3a\"],[0.8888888888888888,\"#fdca26\"],[1.0,\"#f0f921\"]],\"type\":\"heatmap\"}],\"heatmapgl\":[{\"colorbar\":{\"outlinewidth\":0,\"ticks\":\"\"},\"colorscale\":[[0.0,\"#0d0887\"],[0.1111111111111111,\"#46039f\"],[0.2222222222222222,\"#7201a8\"],[0.3333333333333333,\"#9c179e\"],[0.4444444444444444,\"#bd3786\"],[0.5555555555555556,\"#d8576b\"],[0.6666666666666666,\"#ed7953\"],[0.7777777777777778,\"#fb9f3a\"],[0.8888888888888888,\"#fdca26\"],[1.0,\"#f0f921\"]],\"type\":\"heatmapgl\"}],\"histogram\":[{\"marker\":{\"pattern\":{\"fillmode\":\"overlay\",\"size\":10,\"solidity\":0.2}},\"type\":\"histogram\"}],\"histogram2d\":[{\"colorbar\":{\"outlinewidth\":0,\"ticks\":\"\"},\"colorscale\":[[0.0,\"#0d0887\"],[0.1111111111111111,\"#46039f\"],[0.2222222222222222,\"#7201a8\"],[0.3333333333333333,\"#9c179e\"],[0.4444444444444444,\"#bd3786\"],[0.5555555555555556,\"#d8576b\"],[0.6666666666666666,\"#ed7953\"],[0.7777777777777778,\"#fb9f3a\"],[0.8888888888888888,\"#fdca26\"],[1.0,\"#f0f921\"]],\"type\":\"histogram2d\"}],\"histogram2dcontour\":[{\"colorbar\":{\"outlinewidth\":0,\"ticks\":\"\"},\"colorscale\":[[0.0,\"#0d0887\"],[0.1111111111111111,\"#46039f\"],[0.2222222222222222,\"#7201a8\"],[0.3333333333333333,\"#9c179e\"],[0.4444444444444444,\"#bd3786\"],[0.5555555555555556,\"#d8576b\"],[0.6666666666666666,\"#ed7953\"],[0.7777777777777778,\"#fb9f3a\"],[0.8888888888888888,\"#fdca26\"],[1.0,\"#f0f921\"]],\"type\":\"histogram2dcontour\"}],\"mesh3d\":[{\"colorbar\":{\"outlinewidth\":0,\"ticks\":\"\"},\"type\":\"mesh3d\"}],\"parcoords\":[{\"line\":{\"colorbar\":{\"outlinewidth\":0,\"ticks\":\"\"}},\"type\":\"parcoords\"}],\"pie\":[{\"automargin\":true,\"type\":\"pie\"}],\"scatter\":[{\"marker\":{\"colorbar\":{\"outlinewidth\":0,\"ticks\":\"\"}},\"type\":\"scatter\"}],\"scatter3d\":[{\"line\":{\"colorbar\":{\"outlinewidth\":0,\"ticks\":\"\"}},\"marker\":{\"colorbar\":{\"outlinewidth\":0,\"ticks\":\"\"}},\"type\":\"scatter3d\"}],\"scattercarpet\":[{\"marker\":{\"colorbar\":{\"outlinewidth\":0,\"ticks\":\"\"}},\"type\":\"scattercarpet\"}],\"scattergeo\":[{\"marker\":{\"colorbar\":{\"outlinewidth\":0,\"ticks\":\"\"}},\"type\":\"scattergeo\"}],\"scattergl\":[{\"marker\":{\"colorbar\":{\"outlinewidth\":0,\"ticks\":\"\"}},\"type\":\"scattergl\"}],\"scattermapbox\":[{\"marker\":{\"colorbar\":{\"outlinewidth\":0,\"ticks\":\"\"}},\"type\":\"scattermapbox\"}],\"scatterpolar\":[{\"marker\":{\"colorbar\":{\"outlinewidth\":0,\"ticks\":\"\"}},\"type\":\"scatterpolar\"}],\"scatterpolargl\":[{\"marker\":{\"colorbar\":{\"outlinewidth\":0,\"ticks\":\"\"}},\"type\":\"scatterpolargl\"}],\"scatterternary\":[{\"marker\":{\"colorbar\":{\"outlinewidth\":0,\"ticks\":\"\"}},\"type\":\"scatterternary\"}],\"surface\":[{\"colorbar\":{\"outlinewidth\":0,\"ticks\":\"\"},\"colorscale\":[[0.0,\"#0d0887\"],[0.1111111111111111,\"#46039f\"],[0.2222222222222222,\"#7201a8\"],[0.3333333333333333,\"#9c179e\"],[0.4444444444444444,\"#bd3786\"],[0.5555555555555556,\"#d8576b\"],[0.6666666666666666,\"#ed7953\"],[0.7777777777777778,\"#fb9f3a\"],[0.8888888888888888,\"#fdca26\"],[1.0,\"#f0f921\"]],\"type\":\"surface\"}],\"table\":[{\"cells\":{\"fill\":{\"color\":\"#EBF0F8\"},\"line\":{\"color\":\"white\"}},\"header\":{\"fill\":{\"color\":\"#C8D4E3\"},\"line\":{\"color\":\"white\"}},\"type\":\"table\"}]},\"layout\":{\"annotationdefaults\":{\"arrowcolor\":\"#2a3f5f\",\"arrowhead\":0,\"arrowwidth\":1},\"autotypenumbers\":\"strict\",\"coloraxis\":{\"colorbar\":{\"outlinewidth\":0,\"ticks\":\"\"}},\"colorscale\":{\"diverging\":[[0,\"#8e0152\"],[0.1,\"#c51b7d\"],[0.2,\"#de77ae\"],[0.3,\"#f1b6da\"],[0.4,\"#fde0ef\"],[0.5,\"#f7f7f7\"],[0.6,\"#e6f5d0\"],[0.7,\"#b8e186\"],[0.8,\"#7fbc41\"],[0.9,\"#4d9221\"],[1,\"#276419\"]],\"sequential\":[[0.0,\"#0d0887\"],[0.1111111111111111,\"#46039f\"],[0.2222222222222222,\"#7201a8\"],[0.3333333333333333,\"#9c179e\"],[0.4444444444444444,\"#bd3786\"],[0.5555555555555556,\"#d8576b\"],[0.6666666666666666,\"#ed7953\"],[0.7777777777777778,\"#fb9f3a\"],[0.8888888888888888,\"#fdca26\"],[1.0,\"#f0f921\"]],\"sequentialminus\":[[0.0,\"#0d0887\"],[0.1111111111111111,\"#46039f\"],[0.2222222222222222,\"#7201a8\"],[0.3333333333333333,\"#9c179e\"],[0.4444444444444444,\"#bd3786\"],[0.5555555555555556,\"#d8576b\"],[0.6666666666666666,\"#ed7953\"],[0.7777777777777778,\"#fb9f3a\"],[0.8888888888888888,\"#fdca26\"],[1.0,\"#f0f921\"]]},\"colorway\":[\"#636efa\",\"#EF553B\",\"#00cc96\",\"#ab63fa\",\"#FFA15A\",\"#19d3f3\",\"#FF6692\",\"#B6E880\",\"#FF97FF\",\"#FECB52\"],\"font\":{\"color\":\"#2a3f5f\"},\"geo\":{\"bgcolor\":\"white\",\"lakecolor\":\"white\",\"landcolor\":\"#E5ECF6\",\"showlakes\":true,\"showland\":true,\"subunitcolor\":\"white\"},\"hoverlabel\":{\"align\":\"left\"},\"hovermode\":\"closest\",\"mapbox\":{\"style\":\"light\"},\"paper_bgcolor\":\"white\",\"plot_bgcolor\":\"#E5ECF6\",\"polar\":{\"angularaxis\":{\"gridcolor\":\"white\",\"linecolor\":\"white\",\"ticks\":\"\"},\"bgcolor\":\"#E5ECF6\",\"radialaxis\":{\"gridcolor\":\"white\",\"linecolor\":\"white\",\"ticks\":\"\"}},\"scene\":{\"xaxis\":{\"backgroundcolor\":\"#E5ECF6\",\"gridcolor\":\"white\",\"gridwidth\":2,\"linecolor\":\"white\",\"showbackground\":true,\"ticks\":\"\",\"zerolinecolor\":\"white\"},\"yaxis\":{\"backgroundcolor\":\"#E5ECF6\",\"gridcolor\":\"white\",\"gridwidth\":2,\"linecolor\":\"white\",\"showbackground\":true,\"ticks\":\"\",\"zerolinecolor\":\"white\"},\"zaxis\":{\"backgroundcolor\":\"#E5ECF6\",\"gridcolor\":\"white\",\"gridwidth\":2,\"linecolor\":\"white\",\"showbackground\":true,\"ticks\":\"\",\"zerolinecolor\":\"white\"}},\"shapedefaults\":{\"line\":{\"color\":\"#2a3f5f\"}},\"ternary\":{\"aaxis\":{\"gridcolor\":\"white\",\"linecolor\":\"white\",\"ticks\":\"\"},\"baxis\":{\"gridcolor\":\"white\",\"linecolor\":\"white\",\"ticks\":\"\"},\"bgcolor\":\"#E5ECF6\",\"caxis\":{\"gridcolor\":\"white\",\"linecolor\":\"white\",\"ticks\":\"\"}},\"title\":{\"x\":0.05},\"xaxis\":{\"automargin\":true,\"gridcolor\":\"white\",\"linecolor\":\"white\",\"ticks\":\"\",\"title\":{\"standoff\":15},\"zerolinecolor\":\"white\",\"zerolinewidth\":2},\"yaxis\":{\"automargin\":true,\"gridcolor\":\"white\",\"linecolor\":\"white\",\"ticks\":\"\",\"title\":{\"standoff\":15},\"zerolinecolor\":\"white\",\"zerolinewidth\":2}}},\"scene\":{\"domain\":{\"x\":[0.0,1.0],\"y\":[0.0,1.0]},\"xaxis\":{\"title\":{\"text\":\"UMAP1\"}},\"yaxis\":{\"title\":{\"text\":\"UMAP2\"}},\"zaxis\":{\"title\":{\"text\":\"UMAP3\"}}},\"legend\":{\"title\":{\"text\":\"sample_type\"},\"tracegroupgap\":0},\"margin\":{\"t\":60}},                        {\"responsive\": true}                    ).then(function(){\n",
              "                            \n",
              "var gd = document.getElementById('04f2da0e-bd66-4602-b23b-de9f8eda7f82');\n",
              "var x = new MutationObserver(function (mutations, observer) {{\n",
              "        var display = window.getComputedStyle(gd).display;\n",
              "        if (!display || display === 'none') {{\n",
              "            console.log([gd, 'removed!']);\n",
              "            Plotly.purge(gd);\n",
              "            observer.disconnect();\n",
              "        }}\n",
              "}});\n",
              "\n",
              "// Listen for the removal of the full notebook cells\n",
              "var notebookContainer = gd.closest('#notebook-container');\n",
              "if (notebookContainer) {{\n",
              "    x.observe(notebookContainer, {childList: true});\n",
              "}}\n",
              "\n",
              "// Listen for the clearing of the current output cell\n",
              "var outputEl = gd.closest('.output');\n",
              "if (outputEl) {{\n",
              "    x.observe(outputEl, {childList: true});\n",
              "}}\n",
              "\n",
              "                        })                };                            </script>        </div>\n",
              "</body>\n",
              "</html>"
            ]
          },
          "metadata": {}
        }
      ]
    },
    {
      "cell_type": "markdown",
      "source": [
        "The UMAP parameters have a large impact on the result, so if you plan to use this method it is worth familiarizing yourself with them. The [documentation](https://umap-learn.readthedocs.io/en/latest/parameters.html) has some pretty good examples to build your intuition. The parameters to consider are:\n",
        "1. n_neighbors: Small values force UMAP to focus on local structure rather than the big picture. (default: 15)\n",
        "2. min_dist: This parameter sets a minimum distance between points in the embedding. (default: 0.1)\n",
        "3. metric: This specifies how we compute distance between points. Options for real data include: euclidean, manhattan, chebyshev, cosine. (default: 'euclidean')\n"
      ],
      "metadata": {
        "id": "x-v5DLZ1l9wz"
      }
    },
    {
      "cell_type": "code",
      "source": [
        "fit = umap.UMAP(n_neighbors=10, min_dist=0.01, n_components=3, metric='manhattan')\n",
        "%time u = fit.fit_transform(np.log(1+df).T)\n",
        "\n",
        "df_umap = pd.DataFrame(u, columns=[f'UMAP{i}' for i in range(1, 4)])\n",
        "df_umap['sample_type'] = labels\n",
        "\n",
        "fig = px.scatter_3d(df_umap, x='UMAP1', y='UMAP2', z='UMAP3',\n",
        "                    color='sample_type')\n",
        "fig.show()"
      ],
      "metadata": {
        "colab": {
          "base_uri": "https://localhost:8080/",
          "height": 579
        },
        "id": "v0Fc_8UqmB7r",
        "outputId": "d00da2c3-b564-4e69-931f-d2c66448ee53"
      },
      "execution_count": 70,
      "outputs": [
        {
          "output_type": "stream",
          "name": "stdout",
          "text": [
            "CPU times: user 4.49 s, sys: 24 ms, total: 4.52 s\n",
            "Wall time: 7.47 s\n"
          ]
        },
        {
          "output_type": "display_data",
          "data": {
            "text/html": [
              "<html>\n",
              "<head><meta charset=\"utf-8\" /></head>\n",
              "<body>\n",
              "    <div>            <script src=\"https://cdnjs.cloudflare.com/ajax/libs/mathjax/2.7.5/MathJax.js?config=TeX-AMS-MML_SVG\"></script><script type=\"text/javascript\">if (window.MathJax) {MathJax.Hub.Config({SVG: {font: \"STIX-Web\"}});}</script>                <script type=\"text/javascript\">window.PlotlyConfig = {MathJaxConfig: 'local'};</script>\n",
              "        <script src=\"https://cdn.plot.ly/plotly-2.8.3.min.js\"></script>                <div id=\"9be02889-7db3-4f8f-b43e-aa160c42ea16\" class=\"plotly-graph-div\" style=\"height:525px; width:100%;\"></div>            <script type=\"text/javascript\">                                    window.PLOTLYENV=window.PLOTLYENV || {};                                    if (document.getElementById(\"9be02889-7db3-4f8f-b43e-aa160c42ea16\")) {                    Plotly.newPlot(                        \"9be02889-7db3-4f8f-b43e-aa160c42ea16\",                        [{\"hovertemplate\":\"sample_type=Neg_Control<br>UMAP1=%{x}<br>UMAP2=%{y}<br>UMAP3=%{z}<extra></extra>\",\"legendgroup\":\"Neg_Control\",\"marker\":{\"color\":\"#636efa\",\"symbol\":\"circle\"},\"mode\":\"markers\",\"name\":\"Neg_Control\",\"scene\":\"scene\",\"showlegend\":true,\"x\":[7.7506303787231445],\"y\":[6.589745998382568],\"z\":[10.038468360900879],\"type\":\"scatter3d\"},{\"hovertemplate\":\"sample_type=Leaf<br>UMAP1=%{x}<br>UMAP2=%{y}<br>UMAP3=%{z}<extra></extra>\",\"legendgroup\":\"Leaf\",\"marker\":{\"color\":\"#EF553B\",\"symbol\":\"circle\"},\"mode\":\"markers\",\"name\":\"Leaf\",\"scene\":\"scene\",\"showlegend\":true,\"x\":[8.103104591369629,8.238363265991211,8.194038391113281,9.024359703063965,8.118399620056152],\"y\":[7.1556806564331055,6.654234409332275,5.35233736038208,6.061865329742432,5.271827220916748],\"z\":[11.187952995300293,11.264960289001465,10.451264381408691,9.867461204528809,9.849841117858887],\"type\":\"scatter3d\"},{\"hovertemplate\":\"sample_type=Detritivore<br>UMAP1=%{x}<br>UMAP2=%{y}<br>UMAP3=%{z}<extra></extra>\",\"legendgroup\":\"Detritivore\",\"marker\":{\"color\":\"#00cc96\",\"symbol\":\"circle\"},\"mode\":\"markers\",\"name\":\"Detritivore\",\"scene\":\"scene\",\"showlegend\":true,\"x\":[7.1616291999816895,8.166485786437988,7.150063991546631,7.523397445678711,7.698592185974121],\"y\":[6.991109848022461,7.559859275817871,7.063029766082764,7.592635154724121,7.0709004402160645],\"z\":[10.476846694946289,10.139379501342773,9.904196739196777,9.844223022460938,9.611322402954102],\"type\":\"scatter3d\"},{\"hovertemplate\":\"sample_type=Toxo<br>UMAP1=%{x}<br>UMAP2=%{y}<br>UMAP3=%{z}<extra></extra>\",\"legendgroup\":\"Toxo\",\"marker\":{\"color\":\"#ab63fa\",\"symbol\":\"circle\"},\"mode\":\"markers\",\"name\":\"Toxo\",\"scene\":\"scene\",\"showlegend\":true,\"x\":[7.71956729888916,8.605628967285156,8.119626998901367,8.57822322845459,7.809850692749023],\"y\":[7.0360894203186035,6.850318431854248,6.073886871337891,6.545447826385498,6.177269458770752],\"z\":[10.301726341247559,10.587739944458008,10.345195770263672,9.379606246948242,9.761897087097168],\"type\":\"scatter3d\"},{\"hovertemplate\":\"sample_type=Water<br>UMAP1=%{x}<br>UMAP2=%{y}<br>UMAP3=%{z}<extra></extra>\",\"legendgroup\":\"Water\",\"marker\":{\"color\":\"#FFA15A\",\"symbol\":\"circle\"},\"mode\":\"markers\",\"name\":\"Water\",\"scene\":\"scene\",\"showlegend\":true,\"x\":[8.50865364074707,8.661258697509766,8.422730445861816,8.966283798217773,7.687511444091797],\"y\":[7.024426460266113,6.675573825836182,5.43632173538208,6.455880165100098,5.491959571838379],\"z\":[11.416534423828125,11.138321876525879,10.732399940490723,9.649340629577637,10.065937995910645],\"type\":\"scatter3d\"},{\"hovertemplate\":\"sample_type=Pos_Control<br>UMAP1=%{x}<br>UMAP2=%{y}<br>UMAP3=%{z}<extra></extra>\",\"legendgroup\":\"Pos_Control\",\"marker\":{\"color\":\"#19d3f3\",\"symbol\":\"circle\"},\"mode\":\"markers\",\"name\":\"Pos_Control\",\"scene\":\"scene\",\"showlegend\":true,\"x\":[8.385610580444336],\"y\":[6.918237686157227],\"z\":[9.859333992004395],\"type\":\"scatter3d\"}],                        {\"template\":{\"data\":{\"bar\":[{\"error_x\":{\"color\":\"#2a3f5f\"},\"error_y\":{\"color\":\"#2a3f5f\"},\"marker\":{\"line\":{\"color\":\"#E5ECF6\",\"width\":0.5},\"pattern\":{\"fillmode\":\"overlay\",\"size\":10,\"solidity\":0.2}},\"type\":\"bar\"}],\"barpolar\":[{\"marker\":{\"line\":{\"color\":\"#E5ECF6\",\"width\":0.5},\"pattern\":{\"fillmode\":\"overlay\",\"size\":10,\"solidity\":0.2}},\"type\":\"barpolar\"}],\"carpet\":[{\"aaxis\":{\"endlinecolor\":\"#2a3f5f\",\"gridcolor\":\"white\",\"linecolor\":\"white\",\"minorgridcolor\":\"white\",\"startlinecolor\":\"#2a3f5f\"},\"baxis\":{\"endlinecolor\":\"#2a3f5f\",\"gridcolor\":\"white\",\"linecolor\":\"white\",\"minorgridcolor\":\"white\",\"startlinecolor\":\"#2a3f5f\"},\"type\":\"carpet\"}],\"choropleth\":[{\"colorbar\":{\"outlinewidth\":0,\"ticks\":\"\"},\"type\":\"choropleth\"}],\"contour\":[{\"colorbar\":{\"outlinewidth\":0,\"ticks\":\"\"},\"colorscale\":[[0.0,\"#0d0887\"],[0.1111111111111111,\"#46039f\"],[0.2222222222222222,\"#7201a8\"],[0.3333333333333333,\"#9c179e\"],[0.4444444444444444,\"#bd3786\"],[0.5555555555555556,\"#d8576b\"],[0.6666666666666666,\"#ed7953\"],[0.7777777777777778,\"#fb9f3a\"],[0.8888888888888888,\"#fdca26\"],[1.0,\"#f0f921\"]],\"type\":\"contour\"}],\"contourcarpet\":[{\"colorbar\":{\"outlinewidth\":0,\"ticks\":\"\"},\"type\":\"contourcarpet\"}],\"heatmap\":[{\"colorbar\":{\"outlinewidth\":0,\"ticks\":\"\"},\"colorscale\":[[0.0,\"#0d0887\"],[0.1111111111111111,\"#46039f\"],[0.2222222222222222,\"#7201a8\"],[0.3333333333333333,\"#9c179e\"],[0.4444444444444444,\"#bd3786\"],[0.5555555555555556,\"#d8576b\"],[0.6666666666666666,\"#ed7953\"],[0.7777777777777778,\"#fb9f3a\"],[0.8888888888888888,\"#fdca26\"],[1.0,\"#f0f921\"]],\"type\":\"heatmap\"}],\"heatmapgl\":[{\"colorbar\":{\"outlinewidth\":0,\"ticks\":\"\"},\"colorscale\":[[0.0,\"#0d0887\"],[0.1111111111111111,\"#46039f\"],[0.2222222222222222,\"#7201a8\"],[0.3333333333333333,\"#9c179e\"],[0.4444444444444444,\"#bd3786\"],[0.5555555555555556,\"#d8576b\"],[0.6666666666666666,\"#ed7953\"],[0.7777777777777778,\"#fb9f3a\"],[0.8888888888888888,\"#fdca26\"],[1.0,\"#f0f921\"]],\"type\":\"heatmapgl\"}],\"histogram\":[{\"marker\":{\"pattern\":{\"fillmode\":\"overlay\",\"size\":10,\"solidity\":0.2}},\"type\":\"histogram\"}],\"histogram2d\":[{\"colorbar\":{\"outlinewidth\":0,\"ticks\":\"\"},\"colorscale\":[[0.0,\"#0d0887\"],[0.1111111111111111,\"#46039f\"],[0.2222222222222222,\"#7201a8\"],[0.3333333333333333,\"#9c179e\"],[0.4444444444444444,\"#bd3786\"],[0.5555555555555556,\"#d8576b\"],[0.6666666666666666,\"#ed7953\"],[0.7777777777777778,\"#fb9f3a\"],[0.8888888888888888,\"#fdca26\"],[1.0,\"#f0f921\"]],\"type\":\"histogram2d\"}],\"histogram2dcontour\":[{\"colorbar\":{\"outlinewidth\":0,\"ticks\":\"\"},\"colorscale\":[[0.0,\"#0d0887\"],[0.1111111111111111,\"#46039f\"],[0.2222222222222222,\"#7201a8\"],[0.3333333333333333,\"#9c179e\"],[0.4444444444444444,\"#bd3786\"],[0.5555555555555556,\"#d8576b\"],[0.6666666666666666,\"#ed7953\"],[0.7777777777777778,\"#fb9f3a\"],[0.8888888888888888,\"#fdca26\"],[1.0,\"#f0f921\"]],\"type\":\"histogram2dcontour\"}],\"mesh3d\":[{\"colorbar\":{\"outlinewidth\":0,\"ticks\":\"\"},\"type\":\"mesh3d\"}],\"parcoords\":[{\"line\":{\"colorbar\":{\"outlinewidth\":0,\"ticks\":\"\"}},\"type\":\"parcoords\"}],\"pie\":[{\"automargin\":true,\"type\":\"pie\"}],\"scatter\":[{\"marker\":{\"colorbar\":{\"outlinewidth\":0,\"ticks\":\"\"}},\"type\":\"scatter\"}],\"scatter3d\":[{\"line\":{\"colorbar\":{\"outlinewidth\":0,\"ticks\":\"\"}},\"marker\":{\"colorbar\":{\"outlinewidth\":0,\"ticks\":\"\"}},\"type\":\"scatter3d\"}],\"scattercarpet\":[{\"marker\":{\"colorbar\":{\"outlinewidth\":0,\"ticks\":\"\"}},\"type\":\"scattercarpet\"}],\"scattergeo\":[{\"marker\":{\"colorbar\":{\"outlinewidth\":0,\"ticks\":\"\"}},\"type\":\"scattergeo\"}],\"scattergl\":[{\"marker\":{\"colorbar\":{\"outlinewidth\":0,\"ticks\":\"\"}},\"type\":\"scattergl\"}],\"scattermapbox\":[{\"marker\":{\"colorbar\":{\"outlinewidth\":0,\"ticks\":\"\"}},\"type\":\"scattermapbox\"}],\"scatterpolar\":[{\"marker\":{\"colorbar\":{\"outlinewidth\":0,\"ticks\":\"\"}},\"type\":\"scatterpolar\"}],\"scatterpolargl\":[{\"marker\":{\"colorbar\":{\"outlinewidth\":0,\"ticks\":\"\"}},\"type\":\"scatterpolargl\"}],\"scatterternary\":[{\"marker\":{\"colorbar\":{\"outlinewidth\":0,\"ticks\":\"\"}},\"type\":\"scatterternary\"}],\"surface\":[{\"colorbar\":{\"outlinewidth\":0,\"ticks\":\"\"},\"colorscale\":[[0.0,\"#0d0887\"],[0.1111111111111111,\"#46039f\"],[0.2222222222222222,\"#7201a8\"],[0.3333333333333333,\"#9c179e\"],[0.4444444444444444,\"#bd3786\"],[0.5555555555555556,\"#d8576b\"],[0.6666666666666666,\"#ed7953\"],[0.7777777777777778,\"#fb9f3a\"],[0.8888888888888888,\"#fdca26\"],[1.0,\"#f0f921\"]],\"type\":\"surface\"}],\"table\":[{\"cells\":{\"fill\":{\"color\":\"#EBF0F8\"},\"line\":{\"color\":\"white\"}},\"header\":{\"fill\":{\"color\":\"#C8D4E3\"},\"line\":{\"color\":\"white\"}},\"type\":\"table\"}]},\"layout\":{\"annotationdefaults\":{\"arrowcolor\":\"#2a3f5f\",\"arrowhead\":0,\"arrowwidth\":1},\"autotypenumbers\":\"strict\",\"coloraxis\":{\"colorbar\":{\"outlinewidth\":0,\"ticks\":\"\"}},\"colorscale\":{\"diverging\":[[0,\"#8e0152\"],[0.1,\"#c51b7d\"],[0.2,\"#de77ae\"],[0.3,\"#f1b6da\"],[0.4,\"#fde0ef\"],[0.5,\"#f7f7f7\"],[0.6,\"#e6f5d0\"],[0.7,\"#b8e186\"],[0.8,\"#7fbc41\"],[0.9,\"#4d9221\"],[1,\"#276419\"]],\"sequential\":[[0.0,\"#0d0887\"],[0.1111111111111111,\"#46039f\"],[0.2222222222222222,\"#7201a8\"],[0.3333333333333333,\"#9c179e\"],[0.4444444444444444,\"#bd3786\"],[0.5555555555555556,\"#d8576b\"],[0.6666666666666666,\"#ed7953\"],[0.7777777777777778,\"#fb9f3a\"],[0.8888888888888888,\"#fdca26\"],[1.0,\"#f0f921\"]],\"sequentialminus\":[[0.0,\"#0d0887\"],[0.1111111111111111,\"#46039f\"],[0.2222222222222222,\"#7201a8\"],[0.3333333333333333,\"#9c179e\"],[0.4444444444444444,\"#bd3786\"],[0.5555555555555556,\"#d8576b\"],[0.6666666666666666,\"#ed7953\"],[0.7777777777777778,\"#fb9f3a\"],[0.8888888888888888,\"#fdca26\"],[1.0,\"#f0f921\"]]},\"colorway\":[\"#636efa\",\"#EF553B\",\"#00cc96\",\"#ab63fa\",\"#FFA15A\",\"#19d3f3\",\"#FF6692\",\"#B6E880\",\"#FF97FF\",\"#FECB52\"],\"font\":{\"color\":\"#2a3f5f\"},\"geo\":{\"bgcolor\":\"white\",\"lakecolor\":\"white\",\"landcolor\":\"#E5ECF6\",\"showlakes\":true,\"showland\":true,\"subunitcolor\":\"white\"},\"hoverlabel\":{\"align\":\"left\"},\"hovermode\":\"closest\",\"mapbox\":{\"style\":\"light\"},\"paper_bgcolor\":\"white\",\"plot_bgcolor\":\"#E5ECF6\",\"polar\":{\"angularaxis\":{\"gridcolor\":\"white\",\"linecolor\":\"white\",\"ticks\":\"\"},\"bgcolor\":\"#E5ECF6\",\"radialaxis\":{\"gridcolor\":\"white\",\"linecolor\":\"white\",\"ticks\":\"\"}},\"scene\":{\"xaxis\":{\"backgroundcolor\":\"#E5ECF6\",\"gridcolor\":\"white\",\"gridwidth\":2,\"linecolor\":\"white\",\"showbackground\":true,\"ticks\":\"\",\"zerolinecolor\":\"white\"},\"yaxis\":{\"backgroundcolor\":\"#E5ECF6\",\"gridcolor\":\"white\",\"gridwidth\":2,\"linecolor\":\"white\",\"showbackground\":true,\"ticks\":\"\",\"zerolinecolor\":\"white\"},\"zaxis\":{\"backgroundcolor\":\"#E5ECF6\",\"gridcolor\":\"white\",\"gridwidth\":2,\"linecolor\":\"white\",\"showbackground\":true,\"ticks\":\"\",\"zerolinecolor\":\"white\"}},\"shapedefaults\":{\"line\":{\"color\":\"#2a3f5f\"}},\"ternary\":{\"aaxis\":{\"gridcolor\":\"white\",\"linecolor\":\"white\",\"ticks\":\"\"},\"baxis\":{\"gridcolor\":\"white\",\"linecolor\":\"white\",\"ticks\":\"\"},\"bgcolor\":\"#E5ECF6\",\"caxis\":{\"gridcolor\":\"white\",\"linecolor\":\"white\",\"ticks\":\"\"}},\"title\":{\"x\":0.05},\"xaxis\":{\"automargin\":true,\"gridcolor\":\"white\",\"linecolor\":\"white\",\"ticks\":\"\",\"title\":{\"standoff\":15},\"zerolinecolor\":\"white\",\"zerolinewidth\":2},\"yaxis\":{\"automargin\":true,\"gridcolor\":\"white\",\"linecolor\":\"white\",\"ticks\":\"\",\"title\":{\"standoff\":15},\"zerolinecolor\":\"white\",\"zerolinewidth\":2}}},\"scene\":{\"domain\":{\"x\":[0.0,1.0],\"y\":[0.0,1.0]},\"xaxis\":{\"title\":{\"text\":\"UMAP1\"}},\"yaxis\":{\"title\":{\"text\":\"UMAP2\"}},\"zaxis\":{\"title\":{\"text\":\"UMAP3\"}}},\"legend\":{\"title\":{\"text\":\"sample_type\"},\"tracegroupgap\":0},\"margin\":{\"t\":60}},                        {\"responsive\": true}                    ).then(function(){\n",
              "                            \n",
              "var gd = document.getElementById('9be02889-7db3-4f8f-b43e-aa160c42ea16');\n",
              "var x = new MutationObserver(function (mutations, observer) {{\n",
              "        var display = window.getComputedStyle(gd).display;\n",
              "        if (!display || display === 'none') {{\n",
              "            console.log([gd, 'removed!']);\n",
              "            Plotly.purge(gd);\n",
              "            observer.disconnect();\n",
              "        }}\n",
              "}});\n",
              "\n",
              "// Listen for the removal of the full notebook cells\n",
              "var notebookContainer = gd.closest('#notebook-container');\n",
              "if (notebookContainer) {{\n",
              "    x.observe(notebookContainer, {childList: true});\n",
              "}}\n",
              "\n",
              "// Listen for the clearing of the current output cell\n",
              "var outputEl = gd.closest('.output');\n",
              "if (outputEl) {{\n",
              "    x.observe(outputEl, {childList: true});\n",
              "}}\n",
              "\n",
              "                        })                };                            </script>        </div>\n",
              "</body>\n",
              "</html>"
            ]
          },
          "metadata": {}
        }
      ]
    }
  ]
}